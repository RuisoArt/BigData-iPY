{
 "cells": [
  {
   "cell_type": "markdown",
   "id": "513cbed9",
   "metadata": {},
   "source": [
    "# Taller de prueba 1\n",
    "#### Ing.Luis Felipe Narvaez Gomez. E-mail: luis.narvaez@usantoto.edu.co. Cod:2312660.  Facultad de Ingenieria de Sistemas\n",
    "\n",
    "### GUIA DE INICIO"
   ]
  },
  {
   "cell_type": "code",
   "execution_count": 2,
   "id": "48b05dae",
   "metadata": {},
   "outputs": [],
   "source": [
    "# Instalar Librerias\n",
    "\n",
    "#pip install requests\n",
    "#pip install lxml\n",
    "#pip pandas\n",
    "\n",
    "# Este proceso se hace dentro de la consola o prom de anaconda"
   ]
  },
  {
   "cell_type": "code",
   "execution_count": 3,
   "id": "e0645e5d",
   "metadata": {},
   "outputs": [],
   "source": [
    "# Importar librerias\n",
    "\n",
    "import requests\n",
    "import lxml.html as html\n",
    "import pandas as pd"
   ]
  },
  {
   "cell_type": "code",
   "execution_count": 4,
   "id": "185cc724",
   "metadata": {},
   "outputs": [],
   "source": [
    "# variable\n",
    "\n",
    "url_father='https://books.toscrape.com/index.html'\n",
    "root_url = 'https://books.toscrape.com/'"
   ]
  },
  {
   "cell_type": "code",
   "execution_count": 5,
   "id": "398cef29",
   "metadata": {},
   "outputs": [],
   "source": [
    "# obtener links de categorias de los libros\n",
    "links_categorias ='//ul[@class=\"nav nav-list\"]/li//ul/li/a/@href'\n",
    "# obtener el titulo d cada libro\n",
    "titulo ='//article[@class=\"product_pod\"]//h3/a/text()'\n",
    "# obtener el precio de cada libro\n",
    "precios='//div[@class=\"product_price\"]/p[@class=\"price_color\"]/text()'"
   ]
  },
  {
   "cell_type": "code",
   "execution_count": 7,
   "id": "9c04848f",
   "metadata": {},
   "outputs": [],
   "source": [
    "# iniciar el requests\n",
    "\n",
    "r = requests.get(url_father)\n",
    "home = r.content.decode('utf-8')\n",
    "parser = html.fromstring(home)\n",
    "\n",
    "#crea las categorias\n",
    "\n",
    "categorias_url = parser.xpath(links_categorias)\n",
    "categorias_url = [root_url + x for x in categorias_url]"
   ]
  },
  {
   "cell_type": "code",
   "execution_count": 10,
   "id": "5192d290",
   "metadata": {},
   "outputs": [
    {
     "name": "stdout",
     "output_type": "stream",
     "text": [
      "[\"Scott Pilgrim's Precious Little ...\", 'Tsubasa: WoRLD CHRoNiCLE 2 ...', 'This One Summer', 'The Nameless City (The ...', 'Saga, Volume 5 (Saga ...', 'Rat Queens, Vol. 3: ...', 'Princess Jellyfish 2-in-1 Omnibus, ...', 'Pop Gun War, Volume ...', 'Patience', 'Outcast, Vol. 1: A ...', 'orange: The Complete Collection ...', 'Lumberjanes, Vol. 2: Friendship ...', 'Lumberjanes, Vol. 1: Beware ...', 'Lumberjanes Vol. 3: A ...', 'I Hate Fairyland, Vol. ...', 'I am a Hero ...', 'Giant Days, Vol. 2 ...', 'Danganronpa Volume 1', 'Codename Baboushka, Volume 1: ...', 'Camp Midnight'] ['£52.29', '£16.28', '£19.49', '£38.16', '£51.04', '£50.40', '£13.61', '£18.97', '£10.16', '£15.44', '£48.41', '£46.91', '£45.61', '£19.92', '£29.17', '£54.63', '£22.11', '£51.99', '£36.72', '£17.08']\n"
     ]
    }
   ],
   "source": [
    "# obtener la informacion de las categorias\n",
    "\n",
    "r = requests.get(categorias_url[3])\n",
    "home = r.content.decode('utf-8')\n",
    "parser = html.fromstring(home)\n",
    "\n",
    "tittle_book = parser.xpath(titulo)\n",
    "prc = parser.xpath(precios)\n",
    "\n",
    "print(tittle_book,prc)"
   ]
  },
  {
   "cell_type": "code",
   "execution_count": 12,
   "id": "b726e305",
   "metadata": {},
   "outputs": [],
   "source": [
    "# Definimos ahora lo que ya hemos hecho pero en una funcion\n",
    "\n",
    "def get_urls(url_father):\n",
    "    root_url = 'https://books.toscrape.com/'\n",
    "    \n",
    "    links_categorias ='//ul[@class=\"nav nav-list\"]/li//ul/li/a/@href'\n",
    "    r = requests.get(url_father)\n",
    "    home = r.content.decode('utf-8')\n",
    "    parser = html.fromstring(home)\n",
    "    \n",
    "    categorias_url = parser.xpath(links_categorias)\n",
    "    categorias_url = [root_url + x for x in categorias_url]\n",
    "    \n",
    "    return categorias_url"
   ]
  },
  {
   "cell_type": "code",
   "execution_count": 13,
   "id": "9f65dd38",
   "metadata": {},
   "outputs": [],
   "source": [
    "# Definicion para obtener e contenido\n",
    "\n",
    "def parser_content(url):\n",
    "    content_dic={}\n",
    "    \n",
    "    r = requests.get(url)\n",
    "    home = r.content.decode('utf-8')\n",
    "    parser = html.fromstring(home)\n",
    "    \n",
    "    if r.status_code==200:\n",
    "        #obtener tirulos de libro\n",
    "        tittle = '//article[@class=\"product_pod\"]//h3/a/text()'\n",
    "        tittle_book = parser.xpath(tittle)\n",
    "        content_dic['Book Tittle'] = tittle_book\n",
    "        \n",
    "        #obtener precios\n",
    "        price = '//div[@class=\"product_price\"]/p[@class=\"price_color\"]/text()'\n",
    "        prc = parser.xpath(price)\n",
    "        \n",
    "        content_dic['Book Price'] = prc\n",
    "        \n",
    "    return content_dic"
   ]
  },
  {
   "cell_type": "code",
   "execution_count": 14,
   "id": "68862a4b",
   "metadata": {},
   "outputs": [
    {
     "data": {
      "text/plain": [
       "50"
      ]
     },
     "execution_count": 14,
     "metadata": {},
     "output_type": "execute_result"
    }
   ],
   "source": [
    "# ejecutamos las funciones \n",
    "\n",
    "url_father='https://books.toscrape.com/index.html'\n",
    "get_links = get_urls(url_father)\n",
    "len(get_links)"
   ]
  },
  {
   "cell_type": "code",
   "execution_count": 16,
   "id": "c45c927f",
   "metadata": {},
   "outputs": [
    {
     "name": "stdout",
     "output_type": "stream",
     "text": [
      "Scrapeando pagina: 1\n",
      "Scrapeando pagina: 2\n",
      "Scrapeando pagina: 3\n",
      "Scrapeando pagina: 4\n",
      "Scrapeando pagina: 5\n",
      "Scrapeando pagina: 6\n",
      "Scrapeando pagina: 7\n",
      "Scrapeando pagina: 8\n",
      "Scrapeando pagina: 9\n",
      "Scrapeando pagina: 10\n",
      "Scrapeando pagina: 11\n",
      "Scrapeando pagina: 12\n",
      "Scrapeando pagina: 13\n",
      "Scrapeando pagina: 14\n",
      "Scrapeando pagina: 15\n",
      "Scrapeando pagina: 16\n",
      "Scrapeando pagina: 17\n",
      "Scrapeando pagina: 18\n",
      "Scrapeando pagina: 19\n",
      "Scrapeando pagina: 20\n",
      "Scrapeando pagina: 21\n",
      "Scrapeando pagina: 22\n",
      "Scrapeando pagina: 23\n",
      "Scrapeando pagina: 24\n",
      "Scrapeando pagina: 25\n",
      "Scrapeando pagina: 26\n",
      "Scrapeando pagina: 27\n",
      "Scrapeando pagina: 28\n",
      "Scrapeando pagina: 29\n",
      "Scrapeando pagina: 30\n",
      "Scrapeando pagina: 31\n",
      "Scrapeando pagina: 32\n",
      "Scrapeando pagina: 33\n",
      "Scrapeando pagina: 34\n",
      "Scrapeando pagina: 35\n",
      "Scrapeando pagina: 36\n",
      "Scrapeando pagina: 37\n",
      "Scrapeando pagina: 38\n",
      "Scrapeando pagina: 39\n",
      "Scrapeando pagina: 40\n",
      "Scrapeando pagina: 41\n",
      "Scrapeando pagina: 42\n",
      "Scrapeando pagina: 43\n",
      "Scrapeando pagina: 44\n",
      "Scrapeando pagina: 45\n",
      "Scrapeando pagina: 46\n",
      "Scrapeando pagina: 47\n",
      "Scrapeando pagina: 48\n",
      "Scrapeando pagina: 49\n",
      "Scrapeando pagina: 50\n"
     ]
    }
   ],
   "source": [
    "# ahora exportemos la data\n",
    "\n",
    "data=[]\n",
    "for indx, i in enumerate(get_links):\n",
    "    print(f\"Scrapeando pagina: {indx+1}\")\n",
    "    data.append(parser_content(i))"
   ]
  },
  {
   "cell_type": "code",
   "execution_count": 19,
   "id": "b81c17a4",
   "metadata": {},
   "outputs": [
    {
     "data": {
      "text/html": [
       "<div>\n",
       "<style scoped>\n",
       "    .dataframe tbody tr th:only-of-type {\n",
       "        vertical-align: middle;\n",
       "    }\n",
       "\n",
       "    .dataframe tbody tr th {\n",
       "        vertical-align: top;\n",
       "    }\n",
       "\n",
       "    .dataframe thead th {\n",
       "        text-align: right;\n",
       "    }\n",
       "</style>\n",
       "<table border=\"1\" class=\"dataframe\">\n",
       "  <thead>\n",
       "    <tr style=\"text-align: right;\">\n",
       "      <th></th>\n",
       "      <th>Book Tittle</th>\n",
       "      <th>Book Price</th>\n",
       "    </tr>\n",
       "  </thead>\n",
       "  <tbody>\n",
       "    <tr>\n",
       "      <th>0</th>\n",
       "      <td>It's Only the Himalayas</td>\n",
       "      <td>£45.17</td>\n",
       "    </tr>\n",
       "    <tr>\n",
       "      <th>1</th>\n",
       "      <td>Full Moon over Noah’s ...</td>\n",
       "      <td>£49.43</td>\n",
       "    </tr>\n",
       "    <tr>\n",
       "      <th>2</th>\n",
       "      <td>See America: A Celebration ...</td>\n",
       "      <td>£48.87</td>\n",
       "    </tr>\n",
       "  </tbody>\n",
       "</table>\n",
       "</div>"
      ],
      "text/plain": [
       "                      Book Tittle Book Price\n",
       "0         It's Only the Himalayas     £45.17\n",
       "1       Full Moon over Noah’s ...     £49.43\n",
       "2  See America: A Celebration ...     £48.87"
      ]
     },
     "execution_count": 19,
     "metadata": {},
     "output_type": "execute_result"
    }
   ],
   "source": [
    "df = pd.DataFrame()\n",
    "for j in data:\n",
    "    df_one = pd.DataFrame(j)\n",
    "    df = pd.concat([df,df_one])\n",
    "\n",
    "df.head(3)"
   ]
  },
  {
   "cell_type": "code",
   "execution_count": null,
   "id": "ce453aaf",
   "metadata": {},
   "outputs": [],
   "source": []
  }
 ],
 "metadata": {
  "kernelspec": {
   "display_name": "Python 3 (ipykernel)",
   "language": "python",
   "name": "python3"
  },
  "language_info": {
   "codemirror_mode": {
    "name": "ipython",
    "version": 3
   },
   "file_extension": ".py",
   "mimetype": "text/x-python",
   "name": "python",
   "nbconvert_exporter": "python",
   "pygments_lexer": "ipython3",
   "version": "3.9.13"
  }
 },
 "nbformat": 4,
 "nbformat_minor": 5
}
