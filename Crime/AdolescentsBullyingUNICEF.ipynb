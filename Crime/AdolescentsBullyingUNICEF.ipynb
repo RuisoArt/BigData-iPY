{
 "cells": [
  {
   "cell_type": "markdown",
   "id": "7b2701f4-f68e-436b-b525-73ba25e8fc09",
   "metadata": {},
   "source": [
    "# Adolescent Violence UNICEF"
   ]
  },
  {
   "cell_type": "markdown",
   "id": "95c58264-b19e-450c-b8e5-fe0396ed3ca9",
   "metadata": {},
   "source": [
    "Enlace: https://www.kaggle.com/datasets/nguyenngocphung/unicef-state-of-world-children-2021?select=Table-1-Demographics-SOWC2021-EN.xlsx\n",
    "\n",
    "\n",
    "DESCRIPTION OF EACH TABLE 🐱 🐭 🐹\n",
    "\n",
    "==============================================\n",
    "TABLE 1. DEMOGRAPHICS 🦀\n",
    "\n",
    "The demographics table contains selected indicators on some of the most important demographic information of each population, including the total population and broken down by age, as well as annual population growth rates. The annual number of births is a function of both population size and current fertility. The total fertility rate allows for comparison of fertility levels internationally. A total fertility level of 2.1 is called ‘replacement level’ and represents a level at which, in the long term, the population would remain the same size. Life expectancy at birth is a measure of the health status and the development of a population and continues to increase in almost all countries in the world. The dependency ratio is the ratio of the not-working-age population (i.e., the economically ‘dependent’ population) to the working-age population (15–64 years). This can be divided into a child dependency ratio (ratio of children under 15 to working age population) and an old-age dependency ratio (ratio of population 65 and older to working-age population). The total dependency ratio is usually U-shaped over time reflecting a changing age structure as a result of the demographic transition. This can be understood as the combination of opposing trends in child and old-age dependency ratios. For example, decreasing fertility leads to a decreasing share of children in the population and therefore to a decrease in the child dependency ratio. Increasing life expectancy (as consequence of decreasing mortality) will lead to a larger share of older people and therefore to an increase in the old-age dependency ratio. The proportion of the urban population and the annual urban population growth rate describe the status and dynamics of the urbanization process. The net migration rate refers to the difference between the number of immigrants and the number of emigrants; a country/ area with more immigrants than emigrants shows a positive value, while a country with less immigrants than emigrants shows a negative value.\n",
    "\n",
    "================================================\n",
    "TABLE 2. CHILD MORTALITY 🦎\n",
    "\n",
    "Each year, in The State of the World’s Children report, UNICEF presents a series of mortality estimates for children. These figures represent the best estimates available at the time of printing and are based on the work of the United Nations Inter-Agency Group for Child Mortality Estimation (UN IGME), which includes UNICEF, the World Health Organization (WHO), the World Bank group and the United Nations Population Division. UN IGME mortality estimates are updated annually through a detailed review of all newly available data, which can result in adjustments to previously reported estimates. As a result, consecutive editions of The State of the World’s Children should not be used for analysing mortality trends over time. Comparable global and regional under five mortality estimates for the period 1990–2019 are presented below.\n",
    "\n",
    "===============================================\n",
    "TABLE 3. MATERNAL AND NEWBORN HEALTH 🐯\n",
    "\n",
    "The maternal and newborn health table includes a combination of demographic and intervention coverage indicators. The demographic indicators consist of life expectancy for females, adolescent birth rate, and maternal mortality estimates including the number of maternal deaths, maternal mortality ratio, and lifetime risk of maternal death.\n",
    "\n",
    "=============================================\n",
    "TABLE 4. CHILD HEALTH 🐦\n",
    "\n",
    "The child health table includes a set of indicators that capture information on the coverage of effective interventions delivered to children under the age of five years and at the household level. These include a range of immunization indicators (described below) and indicators on interventions for the prevention or treatment of pneumonia, diarrhoea and malaria (the three leading killers of young children). The main data sources for the indicators on prevention and treatment of childhood illnesses are nationally representative household surveys such as the DHS and MICS. Regional and global estimates are calculated by using a weighted average method. Variables used for weighting are indicator-specific and applied to each country. They accord with the appropriate target population for each indicator (the denominator) and are derived from the latest edition of the World Population Prospects. Only the most recent data points from 2015– 2020 for each country were used to calculate regional and global estimates. For indicators that capture information about households, total population was used.\n",
    "\n",
    "===============================================\n",
    "TABLE 5. ADOLESCENT HEALTH 🐋\n",
    "\n",
    "This table contains a set of key indicators related to adolescent health, well-being and mortality. Mortality indicators include adolescent mortality rate for ages 10–19, the number for adolescent deaths as well as the annual rate of reduction in the adolescent mortality rate for the period 2000–2019. Reproductive health indicators presented in this table include adolescent birth rate, early childbearing (which refers to women aged 20–24 years who gave birth before age 18) and demand for family planning satisfied with modern methods among adolescents aged 15–19. The following maternal health indicators are presented for adolescents aged 15–19: Antenatal care with at least four visits and skilled birth attendant. The following risk factors for noncommunicable diseases (NCDs) are presented: Alcohol use among adolescents ages 15–19, tobacco use among adolescents ages 13–15 and insufficient physical activity among school going adolescents ages 11–17. Vaccination against human papillomavirus (HPV) is presented for girls who received the last dose of the HPV vaccine per national schedule. WHO/UNICEF produce two main coverage indicators for HPV vaccination. One is the HPV vaccination programme performance coverage that describes vaccination coverage according to a national schedule and the programme’s eligibility criteria for each calendar year (programme’s target population up to 14 years of age). The second describes HPV vaccination coverage by age 15, representing the proportion of the population turning 15 in the reporting year who have been vaccinated against HPV at any time between the ages of 9–14, at any time up to the calendar year in question.\n",
    "\n",
    "==============================================\n",
    "TABLES 6,7: HIV/AIDS 🦂\n",
    "\n",
    "In 2021, the Joint United Nations Programme on HIV/AIDS (UNAIDS) released new global, regional and country-level HIV and AIDS estimates for 2020 that reflect the most up-to-date epidemiological estimates. The estimates also reflect coverage data for antiretroviral therapy (ART), prevention of mother-to-child transmission (PMTCT) and early infant diagnosis for HIV. The estimates are based on the most current available science and WHO programme guidelines. These guidelines have resulted in improvements in assumptions of the probability of HIV transmission from mother-to-child, fertility among women by age and HIV serostatus, net survival rates for children living with HIV and more. Based on this refined methodology, UNAIDS has retrospectively generated new estimates of HIV prevalence, the number of people living with HIV and those needing treatment, AIDS-related deaths, new HIV infections, and other important trends in the HIV epidemic. Key indicators on the HIV response for children are divided into two tables: Table 6. HIV/AIDS: epidemiology and Table 7. HIV/AIDS: interventions.\n",
    "\n",
    "================================================\n",
    "TABLES 8, 9: NUTRITION 🐴\n",
    "\n",
    "Table 8 encompasses estimates of malnutrition at birth among pre-school-aged children, school-aged children and women of reproductive age as well as coverage of birth weighing and key micronutrient programmes. Table 9 encompasses feeding practices for infants and young children. Estimates for low birthweight, stunting and overweight among pre-school children, thinness and overweight among school-aged children, and maternal underweight and anaemia are from country models. For this reason, these may be different from survey-reported estimates. For all other indicators, when raw data were available, the country-level estimates were re-analysed to conform to standard analysis methods and may therefore differ from survey-reported values.\n",
    "\n",
    "=========================================================\n",
    "TABLE 11: EDUCATION 🐙\n",
    "\n",
    "This table contains a set of indicators on the aspects of children’s education: equitable access, school completion and learning outcomes. This table first provides information about equitable access, as measured by the out-of-school children rate (SDG4.1.4). Estimates shown in this table were calculated using the UNESCO Institute for Statistics (UIS) database. The out-of-school children rate identifies the population part in the official age range for a given level of education not attending school, in order to formulate targeted policies that can be put in place to ensure equitable access to education.\n",
    "\n",
    "===============================================\n",
    "TABLE 12. CHILD PROTECTION 🐞\n",
    "\n",
    "Child protection refers to the prevention of and response to violence, exploitation and abuse of children in all contexts. There are many violations that children can be subjected to, but the lack of comparable data limits reporting on the full spectrum. In view of this, the child protection table presents data on a few issues for which comparable and nationally representative data are available. This includes two manifestations of harmful traditional practices, some forms of violence and exploitation as well as the official recording of births.\n",
    "\n",
    "===============================================\n",
    "TABLE 14. WASH 💐\n",
    "\n",
    "This table contains a set of indicators on access to basic drinking water, sanitation and hygiene (WASH) services in households, schools and healthcare facilities. The WASH estimates in this report come from the WHO/ UNICEF Joint Monitoring Programme for Water Supply, Sanitation and Hygiene (JMP). Full details of the JMP indicator definitions, data sources and methods used to produce sub-national, national, regional and global estimates can be found at \n",
    "\n",
    "\n",
    "\n",
    "\n",
    "**Los dataset originales se modificaron para poder ser analizados correctamente con Dataframe**"
   ]
  },
  {
   "cell_type": "code",
   "execution_count": 29,
   "id": "bd9b3da2-3c0a-4dbe-a2e9-736358a422cc",
   "metadata": {},
   "outputs": [],
   "source": [
    "import numpy as np\n",
    "import pandas as pd\n",
    "import seaborn as sns\n",
    "import os"
   ]
  },
  {
   "cell_type": "code",
   "execution_count": 30,
   "id": "fea9823e-c6be-454b-8706-614276ec3596",
   "metadata": {},
   "outputs": [],
   "source": [
    "from IPython.display import Image"
   ]
  },
  {
   "cell_type": "code",
   "execution_count": 31,
   "id": "bc3d4385-a2f5-4eaa-89f8-30fcdbe23aaf",
   "metadata": {},
   "outputs": [
    {
     "ename": "FileNotFoundError",
     "evalue": "No such file or directory: 'assets/image/UNICEFHEALTH.png'",
     "output_type": "error",
     "traceback": [
      "\u001b[0;31m---------------------------------------------------------------------------\u001b[0m",
      "\u001b[0;31mTypeError\u001b[0m                                 Traceback (most recent call last)",
      "\u001b[0;32m~/anaconda3/lib/python3.9/site-packages/IPython/core/display.py\u001b[0m in \u001b[0;36m_data_and_metadata\u001b[0;34m(self, always_both)\u001b[0m\n\u001b[1;32m   1299\u001b[0m         \u001b[0;32mtry\u001b[0m\u001b[0;34m:\u001b[0m\u001b[0;34m\u001b[0m\u001b[0;34m\u001b[0m\u001b[0m\n\u001b[0;32m-> 1300\u001b[0;31m             \u001b[0mb64_data\u001b[0m \u001b[0;34m=\u001b[0m \u001b[0mb2a_base64\u001b[0m\u001b[0;34m(\u001b[0m\u001b[0mself\u001b[0m\u001b[0;34m.\u001b[0m\u001b[0mdata\u001b[0m\u001b[0;34m)\u001b[0m\u001b[0;34m.\u001b[0m\u001b[0mdecode\u001b[0m\u001b[0;34m(\u001b[0m\u001b[0;34m'ascii'\u001b[0m\u001b[0;34m)\u001b[0m\u001b[0;34m\u001b[0m\u001b[0;34m\u001b[0m\u001b[0m\n\u001b[0m\u001b[1;32m   1301\u001b[0m         \u001b[0;32mexcept\u001b[0m \u001b[0mTypeError\u001b[0m\u001b[0;34m:\u001b[0m\u001b[0;34m\u001b[0m\u001b[0;34m\u001b[0m\u001b[0m\n",
      "\u001b[0;31mTypeError\u001b[0m: a bytes-like object is required, not 'str'",
      "\nDuring handling of the above exception, another exception occurred:\n",
      "\u001b[0;31mFileNotFoundError\u001b[0m                         Traceback (most recent call last)",
      "\u001b[0;32m~/anaconda3/lib/python3.9/site-packages/IPython/core/formatters.py\u001b[0m in \u001b[0;36m__call__\u001b[0;34m(self, obj, include, exclude)\u001b[0m\n\u001b[1;32m    968\u001b[0m \u001b[0;34m\u001b[0m\u001b[0m\n\u001b[1;32m    969\u001b[0m             \u001b[0;32mif\u001b[0m \u001b[0mmethod\u001b[0m \u001b[0;32mis\u001b[0m \u001b[0;32mnot\u001b[0m \u001b[0;32mNone\u001b[0m\u001b[0;34m:\u001b[0m\u001b[0;34m\u001b[0m\u001b[0;34m\u001b[0m\u001b[0m\n\u001b[0;32m--> 970\u001b[0;31m                 \u001b[0;32mreturn\u001b[0m \u001b[0mmethod\u001b[0m\u001b[0;34m(\u001b[0m\u001b[0minclude\u001b[0m\u001b[0;34m=\u001b[0m\u001b[0minclude\u001b[0m\u001b[0;34m,\u001b[0m \u001b[0mexclude\u001b[0m\u001b[0;34m=\u001b[0m\u001b[0mexclude\u001b[0m\u001b[0;34m)\u001b[0m\u001b[0;34m\u001b[0m\u001b[0;34m\u001b[0m\u001b[0m\n\u001b[0m\u001b[1;32m    971\u001b[0m             \u001b[0;32mreturn\u001b[0m \u001b[0;32mNone\u001b[0m\u001b[0;34m\u001b[0m\u001b[0;34m\u001b[0m\u001b[0m\n\u001b[1;32m    972\u001b[0m         \u001b[0;32melse\u001b[0m\u001b[0;34m:\u001b[0m\u001b[0;34m\u001b[0m\u001b[0;34m\u001b[0m\u001b[0m\n",
      "\u001b[0;32m~/anaconda3/lib/python3.9/site-packages/IPython/core/display.py\u001b[0m in \u001b[0;36m_repr_mimebundle_\u001b[0;34m(self, include, exclude)\u001b[0m\n\u001b[1;32m   1288\u001b[0m         \u001b[0;32mif\u001b[0m \u001b[0mself\u001b[0m\u001b[0;34m.\u001b[0m\u001b[0membed\u001b[0m\u001b[0;34m:\u001b[0m\u001b[0;34m\u001b[0m\u001b[0;34m\u001b[0m\u001b[0m\n\u001b[1;32m   1289\u001b[0m             \u001b[0mmimetype\u001b[0m \u001b[0;34m=\u001b[0m \u001b[0mself\u001b[0m\u001b[0;34m.\u001b[0m\u001b[0m_mimetype\u001b[0m\u001b[0;34m\u001b[0m\u001b[0;34m\u001b[0m\u001b[0m\n\u001b[0;32m-> 1290\u001b[0;31m             \u001b[0mdata\u001b[0m\u001b[0;34m,\u001b[0m \u001b[0mmetadata\u001b[0m \u001b[0;34m=\u001b[0m \u001b[0mself\u001b[0m\u001b[0;34m.\u001b[0m\u001b[0m_data_and_metadata\u001b[0m\u001b[0;34m(\u001b[0m\u001b[0malways_both\u001b[0m\u001b[0;34m=\u001b[0m\u001b[0;32mTrue\u001b[0m\u001b[0;34m)\u001b[0m\u001b[0;34m\u001b[0m\u001b[0;34m\u001b[0m\u001b[0m\n\u001b[0m\u001b[1;32m   1291\u001b[0m             \u001b[0;32mif\u001b[0m \u001b[0mmetadata\u001b[0m\u001b[0;34m:\u001b[0m\u001b[0;34m\u001b[0m\u001b[0;34m\u001b[0m\u001b[0m\n\u001b[1;32m   1292\u001b[0m                 \u001b[0mmetadata\u001b[0m \u001b[0;34m=\u001b[0m \u001b[0;34m{\u001b[0m\u001b[0mmimetype\u001b[0m\u001b[0;34m:\u001b[0m \u001b[0mmetadata\u001b[0m\u001b[0;34m}\u001b[0m\u001b[0;34m\u001b[0m\u001b[0;34m\u001b[0m\u001b[0m\n",
      "\u001b[0;32m~/anaconda3/lib/python3.9/site-packages/IPython/core/display.py\u001b[0m in \u001b[0;36m_data_and_metadata\u001b[0;34m(self, always_both)\u001b[0m\n\u001b[1;32m   1300\u001b[0m             \u001b[0mb64_data\u001b[0m \u001b[0;34m=\u001b[0m \u001b[0mb2a_base64\u001b[0m\u001b[0;34m(\u001b[0m\u001b[0mself\u001b[0m\u001b[0;34m.\u001b[0m\u001b[0mdata\u001b[0m\u001b[0;34m)\u001b[0m\u001b[0;34m.\u001b[0m\u001b[0mdecode\u001b[0m\u001b[0;34m(\u001b[0m\u001b[0;34m'ascii'\u001b[0m\u001b[0;34m)\u001b[0m\u001b[0;34m\u001b[0m\u001b[0;34m\u001b[0m\u001b[0m\n\u001b[1;32m   1301\u001b[0m         \u001b[0;32mexcept\u001b[0m \u001b[0mTypeError\u001b[0m\u001b[0;34m:\u001b[0m\u001b[0;34m\u001b[0m\u001b[0;34m\u001b[0m\u001b[0m\n\u001b[0;32m-> 1302\u001b[0;31m             raise FileNotFoundError(\n\u001b[0m\u001b[1;32m   1303\u001b[0m                 \"No such file or directory: '%s'\" % (self.data))\n\u001b[1;32m   1304\u001b[0m         \u001b[0mmd\u001b[0m \u001b[0;34m=\u001b[0m \u001b[0;34m{\u001b[0m\u001b[0;34m}\u001b[0m\u001b[0;34m\u001b[0m\u001b[0;34m\u001b[0m\u001b[0m\n",
      "\u001b[0;31mFileNotFoundError\u001b[0m: No such file or directory: 'assets/image/UNICEFHEALTH.png'"
     ]
    },
    {
     "ename": "FileNotFoundError",
     "evalue": "No such file or directory: 'assets/image/UNICEFHEALTH.png'",
     "output_type": "error",
     "traceback": [
      "\u001b[0;31m---------------------------------------------------------------------------\u001b[0m",
      "\u001b[0;31mTypeError\u001b[0m                                 Traceback (most recent call last)",
      "\u001b[0;32m~/anaconda3/lib/python3.9/site-packages/IPython/core/display.py\u001b[0m in \u001b[0;36m_data_and_metadata\u001b[0;34m(self, always_both)\u001b[0m\n\u001b[1;32m   1299\u001b[0m         \u001b[0;32mtry\u001b[0m\u001b[0;34m:\u001b[0m\u001b[0;34m\u001b[0m\u001b[0;34m\u001b[0m\u001b[0m\n\u001b[0;32m-> 1300\u001b[0;31m             \u001b[0mb64_data\u001b[0m \u001b[0;34m=\u001b[0m \u001b[0mb2a_base64\u001b[0m\u001b[0;34m(\u001b[0m\u001b[0mself\u001b[0m\u001b[0;34m.\u001b[0m\u001b[0mdata\u001b[0m\u001b[0;34m)\u001b[0m\u001b[0;34m.\u001b[0m\u001b[0mdecode\u001b[0m\u001b[0;34m(\u001b[0m\u001b[0;34m'ascii'\u001b[0m\u001b[0;34m)\u001b[0m\u001b[0;34m\u001b[0m\u001b[0;34m\u001b[0m\u001b[0m\n\u001b[0m\u001b[1;32m   1301\u001b[0m         \u001b[0;32mexcept\u001b[0m \u001b[0mTypeError\u001b[0m\u001b[0;34m:\u001b[0m\u001b[0;34m\u001b[0m\u001b[0;34m\u001b[0m\u001b[0m\n",
      "\u001b[0;31mTypeError\u001b[0m: a bytes-like object is required, not 'str'",
      "\nDuring handling of the above exception, another exception occurred:\n",
      "\u001b[0;31mFileNotFoundError\u001b[0m                         Traceback (most recent call last)",
      "\u001b[0;32m~/anaconda3/lib/python3.9/site-packages/IPython/core/formatters.py\u001b[0m in \u001b[0;36m__call__\u001b[0;34m(self, obj)\u001b[0m\n\u001b[1;32m    343\u001b[0m             \u001b[0mmethod\u001b[0m \u001b[0;34m=\u001b[0m \u001b[0mget_real_method\u001b[0m\u001b[0;34m(\u001b[0m\u001b[0mobj\u001b[0m\u001b[0;34m,\u001b[0m \u001b[0mself\u001b[0m\u001b[0;34m.\u001b[0m\u001b[0mprint_method\u001b[0m\u001b[0;34m)\u001b[0m\u001b[0;34m\u001b[0m\u001b[0;34m\u001b[0m\u001b[0m\n\u001b[1;32m    344\u001b[0m             \u001b[0;32mif\u001b[0m \u001b[0mmethod\u001b[0m \u001b[0;32mis\u001b[0m \u001b[0;32mnot\u001b[0m \u001b[0;32mNone\u001b[0m\u001b[0;34m:\u001b[0m\u001b[0;34m\u001b[0m\u001b[0;34m\u001b[0m\u001b[0m\n\u001b[0;32m--> 345\u001b[0;31m                 \u001b[0;32mreturn\u001b[0m \u001b[0mmethod\u001b[0m\u001b[0;34m(\u001b[0m\u001b[0;34m)\u001b[0m\u001b[0;34m\u001b[0m\u001b[0;34m\u001b[0m\u001b[0m\n\u001b[0m\u001b[1;32m    346\u001b[0m             \u001b[0;32mreturn\u001b[0m \u001b[0;32mNone\u001b[0m\u001b[0;34m\u001b[0m\u001b[0;34m\u001b[0m\u001b[0m\n\u001b[1;32m    347\u001b[0m         \u001b[0;32melse\u001b[0m\u001b[0;34m:\u001b[0m\u001b[0;34m\u001b[0m\u001b[0;34m\u001b[0m\u001b[0m\n",
      "\u001b[0;32m~/anaconda3/lib/python3.9/site-packages/IPython/core/display.py\u001b[0m in \u001b[0;36m_repr_png_\u001b[0;34m(self)\u001b[0m\n\u001b[1;32m   1318\u001b[0m     \u001b[0;32mdef\u001b[0m \u001b[0m_repr_png_\u001b[0m\u001b[0;34m(\u001b[0m\u001b[0mself\u001b[0m\u001b[0;34m)\u001b[0m\u001b[0;34m:\u001b[0m\u001b[0;34m\u001b[0m\u001b[0;34m\u001b[0m\u001b[0m\n\u001b[1;32m   1319\u001b[0m         \u001b[0;32mif\u001b[0m \u001b[0mself\u001b[0m\u001b[0;34m.\u001b[0m\u001b[0membed\u001b[0m \u001b[0;32mand\u001b[0m \u001b[0mself\u001b[0m\u001b[0;34m.\u001b[0m\u001b[0mformat\u001b[0m \u001b[0;34m==\u001b[0m \u001b[0mself\u001b[0m\u001b[0;34m.\u001b[0m\u001b[0m_FMT_PNG\u001b[0m\u001b[0;34m:\u001b[0m\u001b[0;34m\u001b[0m\u001b[0;34m\u001b[0m\u001b[0m\n\u001b[0;32m-> 1320\u001b[0;31m             \u001b[0;32mreturn\u001b[0m \u001b[0mself\u001b[0m\u001b[0;34m.\u001b[0m\u001b[0m_data_and_metadata\u001b[0m\u001b[0;34m(\u001b[0m\u001b[0;34m)\u001b[0m\u001b[0;34m\u001b[0m\u001b[0;34m\u001b[0m\u001b[0m\n\u001b[0m\u001b[1;32m   1321\u001b[0m \u001b[0;34m\u001b[0m\u001b[0m\n\u001b[1;32m   1322\u001b[0m     \u001b[0;32mdef\u001b[0m \u001b[0m_repr_jpeg_\u001b[0m\u001b[0;34m(\u001b[0m\u001b[0mself\u001b[0m\u001b[0;34m)\u001b[0m\u001b[0;34m:\u001b[0m\u001b[0;34m\u001b[0m\u001b[0;34m\u001b[0m\u001b[0m\n",
      "\u001b[0;32m~/anaconda3/lib/python3.9/site-packages/IPython/core/display.py\u001b[0m in \u001b[0;36m_data_and_metadata\u001b[0;34m(self, always_both)\u001b[0m\n\u001b[1;32m   1300\u001b[0m             \u001b[0mb64_data\u001b[0m \u001b[0;34m=\u001b[0m \u001b[0mb2a_base64\u001b[0m\u001b[0;34m(\u001b[0m\u001b[0mself\u001b[0m\u001b[0;34m.\u001b[0m\u001b[0mdata\u001b[0m\u001b[0;34m)\u001b[0m\u001b[0;34m.\u001b[0m\u001b[0mdecode\u001b[0m\u001b[0;34m(\u001b[0m\u001b[0;34m'ascii'\u001b[0m\u001b[0;34m)\u001b[0m\u001b[0;34m\u001b[0m\u001b[0;34m\u001b[0m\u001b[0m\n\u001b[1;32m   1301\u001b[0m         \u001b[0;32mexcept\u001b[0m \u001b[0mTypeError\u001b[0m\u001b[0;34m:\u001b[0m\u001b[0;34m\u001b[0m\u001b[0;34m\u001b[0m\u001b[0m\n\u001b[0;32m-> 1302\u001b[0;31m             raise FileNotFoundError(\n\u001b[0m\u001b[1;32m   1303\u001b[0m                 \"No such file or directory: '%s'\" % (self.data))\n\u001b[1;32m   1304\u001b[0m         \u001b[0mmd\u001b[0m \u001b[0;34m=\u001b[0m \u001b[0;34m{\u001b[0m\u001b[0;34m}\u001b[0m\u001b[0;34m\u001b[0m\u001b[0;34m\u001b[0m\u001b[0m\n",
      "\u001b[0;31mFileNotFoundError\u001b[0m: No such file or directory: 'assets/image/UNICEFHEALTH.png'"
     ]
    },
    {
     "data": {
      "text/plain": [
       "<IPython.core.display.Image object>"
      ]
     },
     "execution_count": 31,
     "metadata": {},
     "output_type": "execute_result"
    }
   ],
   "source": [
    "Image(\"assets/image/UNICEFHEALTH.png\")"
   ]
  },
  {
   "cell_type": "markdown",
   "id": "556c3952",
   "metadata": {},
   "source": [
    "1.  Total adolescent population aged 10 to 19 in 2020 (thousands)\n",
    "2.  Total adolescent population in 2020 (%)\n",
    "3.  Total thinness adolescent in 2016\n",
    "4.  Total overweight adolescent in 2016\n",
    "5.  Female intimate partner violence 2012–2020\n",
    "6.  Male bullying between 2011–2018 \n",
    "7.  Female bullying between 2011–2018\n",
    "8.  Male proficiency in math\n",
    "9.  Female proficiency in math\n",
    "10. Male proficiency in reading \n",
    "11. Female proficiency in reading\n",
    "12. Male not in education, employment, or training between 2012–2020\n",
    "13. Female not in education, employment, or training between 2012–2020\n",
    "14. Male unemployment  between 2012–2020\n",
    "15. Female unemployment between 2012–2020\n",
    "16. Male engagement in household chores between 2012–2020\n",
    "17. Female engagement in household chore between 2012–2020"
   ]
  },
  {
   "cell_type": "code",
   "execution_count": 79,
   "id": "8c399d58-4be5-4aa0-a195-7a89cbf704d3",
   "metadata": {},
   "outputs": [],
   "source": [
    "dataset_adolescents = \"Adolescents.xlsx\""
   ]
  },
  {
   "cell_type": "code",
   "execution_count": 80,
   "id": "8dfe7927-3a9d-49a0-94e3-113725d9bf90",
   "metadata": {},
   "outputs": [],
   "source": [
    "df_adolescents = pd.read_excel(dataset_adolescents)"
   ]
  },
  {
   "cell_type": "code",
   "execution_count": 81,
   "id": "6f947e0c-0469-4fa5-ac2b-b95f3e0d2427",
   "metadata": {},
   "outputs": [
    {
     "data": {
      "text/html": [
       "<div>\n",
       "<style scoped>\n",
       "    .dataframe tbody tr th:only-of-type {\n",
       "        vertical-align: middle;\n",
       "    }\n",
       "\n",
       "    .dataframe tbody tr th {\n",
       "        vertical-align: top;\n",
       "    }\n",
       "\n",
       "    .dataframe thead th {\n",
       "        text-align: right;\n",
       "    }\n",
       "</style>\n",
       "<table border=\"1\" class=\"dataframe\">\n",
       "  <thead>\n",
       "    <tr style=\"text-align: right;\">\n",
       "      <th></th>\n",
       "      <th>Countries</th>\n",
       "      <th>1</th>\n",
       "      <th>2</th>\n",
       "      <th>3</th>\n",
       "      <th>4</th>\n",
       "      <th>5</th>\n",
       "      <th>6</th>\n",
       "      <th>7</th>\n",
       "      <th>8</th>\n",
       "      <th>9</th>\n",
       "      <th>10</th>\n",
       "      <th>11</th>\n",
       "      <th>12</th>\n",
       "      <th>13</th>\n",
       "      <th>14</th>\n",
       "      <th>15</th>\n",
       "      <th>16</th>\n",
       "      <th>17</th>\n",
       "    </tr>\n",
       "  </thead>\n",
       "  <tbody>\n",
       "    <tr>\n",
       "      <th>0</th>\n",
       "      <td>Afghanistan</td>\n",
       "      <td>9822</td>\n",
       "      <td>25.229842</td>\n",
       "      <td>17</td>\n",
       "      <td>9</td>\n",
       "      <td>28.7</td>\n",
       "      <td>42.300000</td>\n",
       "      <td>44.900000</td>\n",
       "      <td>NaN</td>\n",
       "      <td>NaN</td>\n",
       "      <td>NaN</td>\n",
       "      <td>NaN</td>\n",
       "      <td>31.0</td>\n",
       "      <td>69.2</td>\n",
       "      <td>14.62</td>\n",
       "      <td>21.53</td>\n",
       "      <td>9.300000</td>\n",
       "      <td>22.200000</td>\n",
       "    </tr>\n",
       "    <tr>\n",
       "      <th>1</th>\n",
       "      <td>Albania</td>\n",
       "      <td>362</td>\n",
       "      <td>12.571339</td>\n",
       "      <td>1</td>\n",
       "      <td>24</td>\n",
       "      <td>NaN</td>\n",
       "      <td>17.312429</td>\n",
       "      <td>18.455187</td>\n",
       "      <td>55.901917</td>\n",
       "      <td>59.424983</td>\n",
       "      <td>37.901720</td>\n",
       "      <td>58.041947</td>\n",
       "      <td>20.5</td>\n",
       "      <td>17.3</td>\n",
       "      <td>34.47</td>\n",
       "      <td>19.45</td>\n",
       "      <td>0.700000</td>\n",
       "      <td>2.500000</td>\n",
       "    </tr>\n",
       "    <tr>\n",
       "      <th>2</th>\n",
       "      <td>Algeria</td>\n",
       "      <td>6732</td>\n",
       "      <td>15.351395</td>\n",
       "      <td>6</td>\n",
       "      <td>29</td>\n",
       "      <td>NaN</td>\n",
       "      <td>48.100000</td>\n",
       "      <td>55.100000</td>\n",
       "      <td>17.511525</td>\n",
       "      <td>20.749800</td>\n",
       "      <td>15.065832</td>\n",
       "      <td>27.676341</td>\n",
       "      <td>NaN</td>\n",
       "      <td>NaN</td>\n",
       "      <td>32.34</td>\n",
       "      <td>38.43</td>\n",
       "      <td>0.930734</td>\n",
       "      <td>1.276222</td>\n",
       "    </tr>\n",
       "  </tbody>\n",
       "</table>\n",
       "</div>"
      ],
      "text/plain": [
       "     Countries     1          2   3   4     5          6          7  \\\n",
       "0  Afghanistan  9822  25.229842  17   9  28.7  42.300000  44.900000   \n",
       "1      Albania   362  12.571339   1  24   NaN  17.312429  18.455187   \n",
       "2      Algeria  6732  15.351395   6  29   NaN  48.100000  55.100000   \n",
       "\n",
       "           8          9         10         11    12    13     14     15  \\\n",
       "0        NaN        NaN        NaN        NaN  31.0  69.2  14.62  21.53   \n",
       "1  55.901917  59.424983  37.901720  58.041947  20.5  17.3  34.47  19.45   \n",
       "2  17.511525  20.749800  15.065832  27.676341   NaN   NaN  32.34  38.43   \n",
       "\n",
       "         16         17  \n",
       "0  9.300000  22.200000  \n",
       "1  0.700000   2.500000  \n",
       "2  0.930734   1.276222  "
      ]
     },
     "execution_count": 81,
     "metadata": {},
     "output_type": "execute_result"
    }
   ],
   "source": [
    "df_adolescents.head(3)"
   ]
  },
  {
   "cell_type": "code",
   "execution_count": 82,
   "id": "247ea99d-ec4c-4783-8a87-6f64d9706b16",
   "metadata": {},
   "outputs": [
    {
     "data": {
      "text/plain": [
       "(202, 18)"
      ]
     },
     "execution_count": 82,
     "metadata": {},
     "output_type": "execute_result"
    }
   ],
   "source": [
    "df_adolescents.shape"
   ]
  },
  {
   "cell_type": "code",
   "execution_count": 83,
   "id": "ff3e598f-b985-4fb9-bdb5-41da6d73e256",
   "metadata": {},
   "outputs": [
    {
     "name": "stdout",
     "output_type": "stream",
     "text": [
      "<class 'pandas.core.frame.DataFrame'>\n",
      "RangeIndex: 202 entries, 0 to 201\n",
      "Data columns (total 18 columns):\n",
      " #   Column     Non-Null Count  Dtype  \n",
      "---  ------     --------------  -----  \n",
      " 0   Countries  202 non-null    object \n",
      " 1   1          202 non-null    object \n",
      " 2   2          202 non-null    float64\n",
      " 3   3          194 non-null    object \n",
      " 4   4          194 non-null    object \n",
      " 5   5          67 non-null     float64\n",
      " 6   6          131 non-null    float64\n",
      " 7   7          130 non-null    float64\n",
      " 8   8          90 non-null     float64\n",
      " 9   9          90 non-null     float64\n",
      " 10  10         84 non-null     float64\n",
      " 11  11         84 non-null     float64\n",
      " 12  12         143 non-null    float64\n",
      " 13  13         141 non-null    float64\n",
      " 14  14         172 non-null    float64\n",
      " 15  15         172 non-null    float64\n",
      " 16  16         82 non-null     float64\n",
      " 17  17         82 non-null     float64\n",
      "dtypes: float64(14), object(4)\n",
      "memory usage: 28.5+ KB\n"
     ]
    }
   ],
   "source": [
    "df_adolescents.info()"
   ]
  },
  {
   "cell_type": "markdown",
   "id": "274021d2-0c24-4bee-8942-48eb11dbcc40",
   "metadata": {},
   "source": [
    "### Los que abandonaron los estudios"
   ]
  },
  {
   "cell_type": "code",
   "execution_count": 84,
   "id": "ab154372-532c-48fe-a379-de37a531ac57",
   "metadata": {},
   "outputs": [
    {
     "data": {
      "text/html": [
       "<div>\n",
       "<style scoped>\n",
       "    .dataframe tbody tr th:only-of-type {\n",
       "        vertical-align: middle;\n",
       "    }\n",
       "\n",
       "    .dataframe tbody tr th {\n",
       "        vertical-align: top;\n",
       "    }\n",
       "\n",
       "    .dataframe thead th {\n",
       "        text-align: right;\n",
       "    }\n",
       "</style>\n",
       "<table border=\"1\" class=\"dataframe\">\n",
       "  <thead>\n",
       "    <tr style=\"text-align: right;\">\n",
       "      <th></th>\n",
       "      <th>Countries</th>\n",
       "      <th>1</th>\n",
       "      <th>2</th>\n",
       "      <th>3</th>\n",
       "      <th>4</th>\n",
       "      <th>5</th>\n",
       "      <th>6</th>\n",
       "      <th>7</th>\n",
       "      <th>8</th>\n",
       "      <th>9</th>\n",
       "      <th>10</th>\n",
       "      <th>11</th>\n",
       "      <th>12</th>\n",
       "      <th>13</th>\n",
       "      <th>14</th>\n",
       "      <th>15</th>\n",
       "      <th>16</th>\n",
       "      <th>17</th>\n",
       "    </tr>\n",
       "  </thead>\n",
       "  <tbody>\n",
       "    <tr>\n",
       "      <th>0</th>\n",
       "      <td>Afghanistan</td>\n",
       "      <td>9822</td>\n",
       "      <td>25.229842</td>\n",
       "      <td>17</td>\n",
       "      <td>9</td>\n",
       "      <td>28.7</td>\n",
       "      <td>42.300000</td>\n",
       "      <td>44.900000</td>\n",
       "      <td>NaN</td>\n",
       "      <td>NaN</td>\n",
       "      <td>NaN</td>\n",
       "      <td>NaN</td>\n",
       "      <td>31.0</td>\n",
       "      <td>69.2</td>\n",
       "      <td>14.62</td>\n",
       "      <td>21.53</td>\n",
       "      <td>9.300000</td>\n",
       "      <td>22.200000</td>\n",
       "    </tr>\n",
       "    <tr>\n",
       "      <th>1</th>\n",
       "      <td>Albania</td>\n",
       "      <td>362</td>\n",
       "      <td>12.571339</td>\n",
       "      <td>1</td>\n",
       "      <td>24</td>\n",
       "      <td>NaN</td>\n",
       "      <td>17.312429</td>\n",
       "      <td>18.455187</td>\n",
       "      <td>55.901917</td>\n",
       "      <td>59.424983</td>\n",
       "      <td>37.901720</td>\n",
       "      <td>58.041947</td>\n",
       "      <td>20.5</td>\n",
       "      <td>17.3</td>\n",
       "      <td>34.47</td>\n",
       "      <td>19.45</td>\n",
       "      <td>0.700000</td>\n",
       "      <td>2.500000</td>\n",
       "    </tr>\n",
       "    <tr>\n",
       "      <th>2</th>\n",
       "      <td>Algeria</td>\n",
       "      <td>6732</td>\n",
       "      <td>15.351395</td>\n",
       "      <td>6</td>\n",
       "      <td>29</td>\n",
       "      <td>NaN</td>\n",
       "      <td>48.100000</td>\n",
       "      <td>55.100000</td>\n",
       "      <td>17.511525</td>\n",
       "      <td>20.749800</td>\n",
       "      <td>15.065832</td>\n",
       "      <td>27.676341</td>\n",
       "      <td>NaN</td>\n",
       "      <td>NaN</td>\n",
       "      <td>32.34</td>\n",
       "      <td>38.43</td>\n",
       "      <td>0.930734</td>\n",
       "      <td>1.276222</td>\n",
       "    </tr>\n",
       "  </tbody>\n",
       "</table>\n",
       "</div>"
      ],
      "text/plain": [
       "     Countries     1          2   3   4     5          6          7  \\\n",
       "0  Afghanistan  9822  25.229842  17   9  28.7  42.300000  44.900000   \n",
       "1      Albania   362  12.571339   1  24   NaN  17.312429  18.455187   \n",
       "2      Algeria  6732  15.351395   6  29   NaN  48.100000  55.100000   \n",
       "\n",
       "           8          9         10         11    12    13     14     15  \\\n",
       "0        NaN        NaN        NaN        NaN  31.0  69.2  14.62  21.53   \n",
       "1  55.901917  59.424983  37.901720  58.041947  20.5  17.3  34.47  19.45   \n",
       "2  17.511525  20.749800  15.065832  27.676341   NaN   NaN  32.34  38.43   \n",
       "\n",
       "         16         17  \n",
       "0  9.300000  22.200000  \n",
       "1  0.700000   2.500000  \n",
       "2  0.930734   1.276222  "
      ]
     },
     "execution_count": 84,
     "metadata": {},
     "output_type": "execute_result"
    }
   ],
   "source": [
    "df = df_adolescents.copy()\n",
    "df.head(3)"
   ]
  },
  {
   "cell_type": "code",
   "execution_count": 85,
   "id": "81ae7e4c-8bdb-446e-ba16-45e57ed918ba",
   "metadata": {},
   "outputs": [
    {
     "data": {
      "text/html": [
       "<div>\n",
       "<style scoped>\n",
       "    .dataframe tbody tr th:only-of-type {\n",
       "        vertical-align: middle;\n",
       "    }\n",
       "\n",
       "    .dataframe tbody tr th {\n",
       "        vertical-align: top;\n",
       "    }\n",
       "\n",
       "    .dataframe thead th {\n",
       "        text-align: right;\n",
       "    }\n",
       "</style>\n",
       "<table border=\"1\" class=\"dataframe\">\n",
       "  <thead>\n",
       "    <tr style=\"text-align: right;\">\n",
       "      <th></th>\n",
       "      <th>Countries</th>\n",
       "      <th>5</th>\n",
       "      <th>6</th>\n",
       "      <th>7</th>\n",
       "      <th>8</th>\n",
       "      <th>9</th>\n",
       "      <th>10</th>\n",
       "      <th>11</th>\n",
       "      <th>12</th>\n",
       "      <th>13</th>\n",
       "      <th>14</th>\n",
       "      <th>15</th>\n",
       "      <th>16</th>\n",
       "      <th>17</th>\n",
       "    </tr>\n",
       "  </thead>\n",
       "  <tbody>\n",
       "    <tr>\n",
       "      <th>0</th>\n",
       "      <td>Afghanistan</td>\n",
       "      <td>28.7</td>\n",
       "      <td>42.300000</td>\n",
       "      <td>44.900000</td>\n",
       "      <td>NaN</td>\n",
       "      <td>NaN</td>\n",
       "      <td>NaN</td>\n",
       "      <td>NaN</td>\n",
       "      <td>31.0</td>\n",
       "      <td>69.2</td>\n",
       "      <td>14.62</td>\n",
       "      <td>21.53</td>\n",
       "      <td>9.300000</td>\n",
       "      <td>22.200000</td>\n",
       "    </tr>\n",
       "    <tr>\n",
       "      <th>1</th>\n",
       "      <td>Albania</td>\n",
       "      <td>NaN</td>\n",
       "      <td>17.312429</td>\n",
       "      <td>18.455187</td>\n",
       "      <td>55.901917</td>\n",
       "      <td>59.424983</td>\n",
       "      <td>37.901720</td>\n",
       "      <td>58.041947</td>\n",
       "      <td>20.5</td>\n",
       "      <td>17.3</td>\n",
       "      <td>34.47</td>\n",
       "      <td>19.45</td>\n",
       "      <td>0.700000</td>\n",
       "      <td>2.500000</td>\n",
       "    </tr>\n",
       "    <tr>\n",
       "      <th>2</th>\n",
       "      <td>Algeria</td>\n",
       "      <td>NaN</td>\n",
       "      <td>48.100000</td>\n",
       "      <td>55.100000</td>\n",
       "      <td>17.511525</td>\n",
       "      <td>20.749800</td>\n",
       "      <td>15.065832</td>\n",
       "      <td>27.676341</td>\n",
       "      <td>NaN</td>\n",
       "      <td>NaN</td>\n",
       "      <td>32.34</td>\n",
       "      <td>38.43</td>\n",
       "      <td>0.930734</td>\n",
       "      <td>1.276222</td>\n",
       "    </tr>\n",
       "  </tbody>\n",
       "</table>\n",
       "</div>"
      ],
      "text/plain": [
       "     Countries     5          6          7          8          9         10  \\\n",
       "0  Afghanistan  28.7  42.300000  44.900000        NaN        NaN        NaN   \n",
       "1      Albania   NaN  17.312429  18.455187  55.901917  59.424983  37.901720   \n",
       "2      Algeria   NaN  48.100000  55.100000  17.511525  20.749800  15.065832   \n",
       "\n",
       "          11    12    13     14     15        16         17  \n",
       "0        NaN  31.0  69.2  14.62  21.53  9.300000  22.200000  \n",
       "1  58.041947  20.5  17.3  34.47  19.45  0.700000   2.500000  \n",
       "2  27.676341   NaN   NaN  32.34  38.43  0.930734   1.276222  "
      ]
     },
     "execution_count": 85,
     "metadata": {},
     "output_type": "execute_result"
    }
   ],
   "source": [
    "# Los adolescentes hombres y mujeres que sufrieron bullying.\n",
    "for i in range(1, 5):\n",
    "    df.drop([i], axis=1, inplace=True)\n",
    "df.head(3)"
   ]
  },
  {
   "cell_type": "code",
   "execution_count": 86,
   "id": "3fd5452f",
   "metadata": {},
   "outputs": [
    {
     "data": {
      "text/html": [
       "<div>\n",
       "<style scoped>\n",
       "    .dataframe tbody tr th:only-of-type {\n",
       "        vertical-align: middle;\n",
       "    }\n",
       "\n",
       "    .dataframe tbody tr th {\n",
       "        vertical-align: top;\n",
       "    }\n",
       "\n",
       "    .dataframe thead th {\n",
       "        text-align: right;\n",
       "    }\n",
       "</style>\n",
       "<table border=\"1\" class=\"dataframe\">\n",
       "  <thead>\n",
       "    <tr style=\"text-align: right;\">\n",
       "      <th></th>\n",
       "      <th>Countries</th>\n",
       "      <th>5</th>\n",
       "      <th>6</th>\n",
       "    </tr>\n",
       "  </thead>\n",
       "  <tbody>\n",
       "    <tr>\n",
       "      <th>0</th>\n",
       "      <td>Afghanistan</td>\n",
       "      <td>28.7</td>\n",
       "      <td>42.300000</td>\n",
       "    </tr>\n",
       "    <tr>\n",
       "      <th>1</th>\n",
       "      <td>Albania</td>\n",
       "      <td>NaN</td>\n",
       "      <td>17.312429</td>\n",
       "    </tr>\n",
       "    <tr>\n",
       "      <th>2</th>\n",
       "      <td>Algeria</td>\n",
       "      <td>NaN</td>\n",
       "      <td>48.100000</td>\n",
       "    </tr>\n",
       "  </tbody>\n",
       "</table>\n",
       "</div>"
      ],
      "text/plain": [
       "     Countries     5          6\n",
       "0  Afghanistan  28.7  42.300000\n",
       "1      Albania   NaN  17.312429\n",
       "2      Algeria   NaN  48.100000"
      ]
     },
     "execution_count": 86,
     "metadata": {},
     "output_type": "execute_result"
    }
   ],
   "source": [
    "# Los adolescentes hombres y mujeres que sufrieron bullying.\n",
    "for i in range(7, 18):\n",
    "    df.drop([i], axis=1, inplace=True)\n",
    "df.head(3)"
   ]
  },
  {
   "cell_type": "markdown",
   "id": "a5f1aad3-d713-4a13-b534-3aebbef5577b",
   "metadata": {},
   "source": [
    "Los datos nulos ( ) seran reemplazados por ceros para la sumatoria de desercion por pais."
   ]
  },
  {
   "cell_type": "code",
   "execution_count": 87,
   "id": "08930c35",
   "metadata": {},
   "outputs": [],
   "source": [
    "df[5] = df[5].fillna(0)\n",
    "df[6] = df[6].fillna(0)"
   ]
  },
  {
   "cell_type": "code",
   "execution_count": 88,
   "id": "fb48f640-0dc6-4524-9d24-4b8f78e516ac",
   "metadata": {},
   "outputs": [
    {
     "data": {
      "text/html": [
       "<div>\n",
       "<style scoped>\n",
       "    .dataframe tbody tr th:only-of-type {\n",
       "        vertical-align: middle;\n",
       "    }\n",
       "\n",
       "    .dataframe tbody tr th {\n",
       "        vertical-align: top;\n",
       "    }\n",
       "\n",
       "    .dataframe thead th {\n",
       "        text-align: right;\n",
       "    }\n",
       "</style>\n",
       "<table border=\"1\" class=\"dataframe\">\n",
       "  <thead>\n",
       "    <tr style=\"text-align: right;\">\n",
       "      <th></th>\n",
       "      <th>Countries</th>\n",
       "      <th>5</th>\n",
       "      <th>6</th>\n",
       "      <th>BullyingVictims</th>\n",
       "    </tr>\n",
       "  </thead>\n",
       "  <tbody>\n",
       "    <tr>\n",
       "      <th>0</th>\n",
       "      <td>Afghanistan</td>\n",
       "      <td>28.7</td>\n",
       "      <td>42.300000</td>\n",
       "      <td>71.000000</td>\n",
       "    </tr>\n",
       "    <tr>\n",
       "      <th>1</th>\n",
       "      <td>Albania</td>\n",
       "      <td>0.0</td>\n",
       "      <td>17.312429</td>\n",
       "      <td>17.312429</td>\n",
       "    </tr>\n",
       "    <tr>\n",
       "      <th>2</th>\n",
       "      <td>Algeria</td>\n",
       "      <td>0.0</td>\n",
       "      <td>48.100000</td>\n",
       "      <td>48.100000</td>\n",
       "    </tr>\n",
       "  </tbody>\n",
       "</table>\n",
       "</div>"
      ],
      "text/plain": [
       "     Countries     5          6  BullyingVictims\n",
       "0  Afghanistan  28.7  42.300000        71.000000\n",
       "1      Albania   0.0  17.312429        17.312429\n",
       "2      Algeria   0.0  48.100000        48.100000"
      ]
     },
     "execution_count": 88,
     "metadata": {},
     "output_type": "execute_result"
    }
   ],
   "source": [
    "df['BullyingVictims'] = df[5] + df[6]\n",
    "df.head(3)"
   ]
  },
  {
   "cell_type": "code",
   "execution_count": 89,
   "id": "2899efdf-37c1-49a8-8496-df4407ce9e87",
   "metadata": {},
   "outputs": [
    {
     "data": {
      "text/html": [
       "<div>\n",
       "<style scoped>\n",
       "    .dataframe tbody tr th:only-of-type {\n",
       "        vertical-align: middle;\n",
       "    }\n",
       "\n",
       "    .dataframe tbody tr th {\n",
       "        vertical-align: top;\n",
       "    }\n",
       "\n",
       "    .dataframe thead th {\n",
       "        text-align: right;\n",
       "    }\n",
       "</style>\n",
       "<table border=\"1\" class=\"dataframe\">\n",
       "  <thead>\n",
       "    <tr style=\"text-align: right;\">\n",
       "      <th></th>\n",
       "      <th>Countries</th>\n",
       "      <th>BullyingVictims</th>\n",
       "    </tr>\n",
       "  </thead>\n",
       "  <tbody>\n",
       "    <tr>\n",
       "      <th>0</th>\n",
       "      <td>Afghanistan</td>\n",
       "      <td>71.000000</td>\n",
       "    </tr>\n",
       "    <tr>\n",
       "      <th>1</th>\n",
       "      <td>Albania</td>\n",
       "      <td>17.312429</td>\n",
       "    </tr>\n",
       "    <tr>\n",
       "      <th>2</th>\n",
       "      <td>Algeria</td>\n",
       "      <td>48.100000</td>\n",
       "    </tr>\n",
       "  </tbody>\n",
       "</table>\n",
       "</div>"
      ],
      "text/plain": [
       "     Countries  BullyingVictims\n",
       "0  Afghanistan        71.000000\n",
       "1      Albania        17.312429\n",
       "2      Algeria        48.100000"
      ]
     },
     "execution_count": 89,
     "metadata": {},
     "output_type": "execute_result"
    }
   ],
   "source": [
    "for i in range(5, 7):\n",
    "    df.drop([i], axis=1, inplace=True)\n",
    "df.head(3)"
   ]
  },
  {
   "cell_type": "markdown",
   "id": "6a5d0549-2e95-4cdb-9afd-c998ba505ddf",
   "metadata": {},
   "source": [
    "Organizar de forma ascendente"
   ]
  },
  {
   "cell_type": "code",
   "execution_count": 90,
   "id": "ef38224c-fd59-41c3-beef-02eef5a160de",
   "metadata": {},
   "outputs": [
    {
     "data": {
      "text/html": [
       "<div>\n",
       "<style scoped>\n",
       "    .dataframe tbody tr th:only-of-type {\n",
       "        vertical-align: middle;\n",
       "    }\n",
       "\n",
       "    .dataframe tbody tr th {\n",
       "        vertical-align: top;\n",
       "    }\n",
       "\n",
       "    .dataframe thead th {\n",
       "        text-align: right;\n",
       "    }\n",
       "</style>\n",
       "<table border=\"1\" class=\"dataframe\">\n",
       "  <thead>\n",
       "    <tr style=\"text-align: right;\">\n",
       "      <th></th>\n",
       "      <th>Countries</th>\n",
       "      <th>BullyingVictims</th>\n",
       "    </tr>\n",
       "  </thead>\n",
       "  <tbody>\n",
       "    <tr>\n",
       "      <th>93</th>\n",
       "      <td>Kiribati</td>\n",
       "      <td>109.5</td>\n",
       "    </tr>\n",
       "    <tr>\n",
       "      <th>160</th>\n",
       "      <td>Sierra Leone</td>\n",
       "      <td>102.3</td>\n",
       "    </tr>\n",
       "    <tr>\n",
       "      <th>100</th>\n",
       "      <td>Liberia</td>\n",
       "      <td>101.0</td>\n",
       "    </tr>\n",
       "  </tbody>\n",
       "</table>\n",
       "</div>"
      ],
      "text/plain": [
       "        Countries  BullyingVictims\n",
       "93       Kiribati            109.5\n",
       "160  Sierra Leone            102.3\n",
       "100       Liberia            101.0"
      ]
     },
     "execution_count": 90,
     "metadata": {},
     "output_type": "execute_result"
    }
   ],
   "source": [
    "df = df.sort_values('BullyingVictims', ascending=False)\n",
    "df.head(3)"
   ]
  },
  {
   "cell_type": "code",
   "execution_count": 92,
   "id": "0e9d924c",
   "metadata": {},
   "outputs": [
    {
     "name": "stdout",
     "output_type": "stream",
     "text": [
      "Collecting squarify\n",
      "  Downloading squarify-0.4.3-py3-none-any.whl (4.3 kB)\n",
      "Installing collected packages: squarify\n",
      "Successfully installed squarify-0.4.3\n",
      "Note: you may need to restart the kernel to use updated packages.\n"
     ]
    }
   ],
   "source": [
    "pip install squarify"
   ]
  },
  {
   "cell_type": "code",
   "execution_count": 93,
   "id": "297d00a9-f234-4684-883b-43a6bd185d2d",
   "metadata": {},
   "outputs": [
    {
     "data": {
      "image/png": "[encoded data removed]",
      "text/plain": [
       "<Figure size 432x288 with 1 Axes>"
      ]
     },
     "metadata": {
      "needs_background": "light"
     },
     "output_type": "display_data"
    }
   ],
   "source": [
    "import matplotlib.pyplot as plt\n",
    "import squarify\n",
    "import seaborn as sb\n",
    "\n",
    "# Sample data\n",
    "values = df['BullyingVictims'].head(10)\n",
    "labels = df['Countries'].head(10)\n",
    "colors = sb.color_palette(\"magma\", len(values))\n",
    "\n",
    "# Treemap\n",
    "squarify.plot(sizes = values, label = labels, color = colors, alpha = 0.7)\n",
    "\n",
    "# Remove the axis:\n",
    "plt.axis(\"off\")\n",
    "plt.show() "
   ]
  },
  {
   "cell_type": "code",
   "execution_count": 26,
   "id": "ecb875d0-e7e7-449e-be5d-e8aa5fcbf40d",
   "metadata": {},
   "outputs": [
    {
     "data": {
      "image/png": "[encoded data removed]",
      "text/plain": [
       "<Figure size 640x480 with 1 Axes>"
      ]
     },
     "metadata": {},
     "output_type": "display_data"
    }
   ],
   "source": [
    "import matplotlib.pyplot as plt\n",
    "import numpy as np\n",
    "\n",
    "# Data\n",
    "cantidad = 20\n",
    "x = df['Countries and areas'].head(cantidad)\n",
    "y = df['StudentDropOut'].head(cantidad)\n",
    "\n",
    "# Stem plot\n",
    "fig, ax = plt.subplots()\n",
    "ax.stem(x, y, orientation = \"horizontal\")\n",
    "plt.xlabel(\"StudentDropOut\")\n",
    "plt.show() \n"
   ]
  }
 ],
 "metadata": {
  "kernelspec": {
   "display_name": "Python 3 (ipykernel)",
   "language": "python",
   "name": "python3"
  },
  "language_info": {
   "codemirror_mode": {
    "name": "ipython",
    "version": 3
   },
   "file_extension": ".py",
   "mimetype": "text/x-python",
   "name": "python",
   "nbconvert_exporter": "python",
   "pygments_lexer": "ipython3",
   "version": "3.9.12"
  }
 },
 "nbformat": 4,
 "nbformat_minor": 5
}
