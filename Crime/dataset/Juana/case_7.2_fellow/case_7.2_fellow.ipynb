{
 "cells": [
  {
   "cell_type": "markdown",
   "metadata": {},
   "source": [
    "## Do the types of crimes committed in Chicago depend on location and time?"
   ]
  },
  {
   "cell_type": "markdown",
   "metadata": {
    "tags": [
     "3_min"
    ]
   },
   "source": [
    "## Goals\n",
    "\n",
    "In the previous case, we learned how to use the $t$-test and ANOVA to study changes in the mean of different populations. The main goal of this case is to learn how to detect possible interactions between categorical variables. By the end of this case, you should have learned how to use *contingency tables* to explore and design hypotheses of possible dependencies between the categorical features of your data. In addition, you should have learned how to conduct a $\\chi^2$-test (Chi-square test) to examine the dependences in the categories you previously hypothesized.   "
   ]
  },
  {
   "cell_type": "code",
   "execution_count": null,
   "metadata": {},
   "outputs": [],
   "source": [
    "import pandas as pd\n",
    "import numpy as np\n",
    "from scipy.stats import chi2_contingency\n",
    "import matplotlib.pyplot as plt\n",
    "from scipy.stats import chi2"
   ]
  },
  {
   "cell_type": "markdown",
   "metadata": {
    "tags": [
     "5_min"
    ]
   },
   "source": [
    "## Introduction\n",
    "\n",
    "**Business Context.** Previously, you investigated crime data for the Chicago police department, and discovered many potential factors that could be associated with crime incidents. Now, the police department wants you to finalize your report to them so that they can start implementing some strategies based on your findings. However, because deploying a new strategy is resource intensive, they want you to confirm that the patterns you observed are not merely due to randomness. \n",
    "\n",
    "**Business Problem.** The department wants you to determine: **\"Are the crime patterns you observed in your prior analysis merely due to chance, or do they represent an actionable signal?\"**\n",
    "\n",
    "**Analytical Context.** In this case, we will learn how to perform hypothesis tests to find out if two discrete variables are independent of each other or if there are patterns between them not due to chance. This establishes if the observed interaction between such variables during exploratory data analysis are **statistically significant**. The testing procedure is usually referred to as the **Chi-square test** and it is performed on contigency tables.\n",
    "\n",
    "The case is structured as follows: you will (1) set up the contigency table for crime type vs. location; (2) learn about the chi-square test and apply it to this pair to ascertain statistical significance of the pattern we observed during EDA; and (3) apply this test to a few other patterns we observed before."
   ]
  },
  {
   "cell_type": "code",
   "execution_count": null,
   "metadata": {},
   "outputs": [],
   "source": [
    "df = pd.read_csv('Chicago_crime_data.csv', dtype={'ID': object, 'beat_num': object})\n",
    "pd.options.display.max_rows = 200"
   ]
  },
  {
   "cell_type": "code",
   "execution_count": null,
   "metadata": {},
   "outputs": [],
   "source": [
    "df.columns"
   ]
  },
  {
   "cell_type": "code",
   "execution_count": null,
   "metadata": {},
   "outputs": [],
   "source": [
    "cross=pd.crosstab(df['Domestic'], df['Arrest'])\n",
    "cross"
   ]
  },
  {
   "cell_type": "code",
   "execution_count": null,
   "metadata": {},
   "outputs": [],
   "source": [
    "chi2_contingency(cross)"
   ]
  },
  {
   "cell_type": "markdown",
   "metadata": {
    "tags": [
     "20_min"
    ]
   },
   "source": [
    "## Contingency tables\n",
    "\n",
    "Recall that our original Chicago crime dataset consisted of records of individual incidents. For any given variable (e.g. primary type of crime), each incident has a particular value. For example, the first incident in the dataset is a burglary case and it happened in an apartment:"
   ]
  },
  {
   "cell_type": "code",
   "execution_count": null,
   "metadata": {},
   "outputs": [],
   "source": [
    "df.head()"
   ]
  },
  {
   "cell_type": "markdown",
   "metadata": {},
   "source": [
    "Recall also that we used contingency tables in order to investigate possible correlations and relationships among the different variables. The following table gives the full contingency table for `Primary Type` vs. `Location`:"
   ]
  },
  {
   "cell_type": "code",
   "execution_count": null,
   "metadata": {},
   "outputs": [],
   "source": [
    "type_loc_cross = pd.crosstab(df[\"Primary Type\"], df[\"Location Description\"])\n",
    "type_loc_cross"
   ]
  },
  {
   "cell_type": "markdown",
   "metadata": {},
   "source": [
    "\n",
    "The resulting table is a bit too large. One way to deal with this is to select few categories that may be of interest to our client and start our analysis with those. However, before doing this, it is often good practice to group all of our features into larger (meaningful) categories. Two reasons for this are:\n",
    "    \n",
    "1. We avoid losing data that might contain valuable patterns for our client (which can happen if we pre-select categories off the bat).\n",
    "2. If we find a possible dependency between two larger categories, it will tell us to look into their subcategories and study these in more detail.\n",
    "\n",
    "Luckily for us, we have hired an intern who created the dictionaries ```Locations_dict``` and ```Offenses_dict``` containing a possible set of groupings for our categories:"
   ]
  },
  {
   "cell_type": "code",
   "execution_count": null,
   "metadata": {},
   "outputs": [],
   "source": [
    "Locations_dict                     ={\n",
    "    'Airport & Related' :{\n",
    "        'AIRCRAFT', \n",
    "        'AIRPORT BUILDING NON-TERMINAL - NON-SECURE AREA',\n",
    "        'AIRPORT BUILDING NON-TERMINAL - SECURE AREA',\n",
    "        'AIRPORT EXTERIOR - NON-SECURE AREA',\n",
    "        'AIRPORT EXTERIOR - SECURE AREA', 'AIRPORT PARKING LOT',\n",
    "        'AIRPORT TERMINAL LOWER LEVEL - NON-SECURE AREA',\n",
    "        'AIRPORT TERMINAL LOWER LEVEL - SECURE AREA',\n",
    "        'AIRPORT TERMINAL MEZZANINE - NON-SECURE AREA',\n",
    "        'AIRPORT TERMINAL UPPER LEVEL - NON-SECURE AREA',\n",
    "        'AIRPORT TERMINAL UPPER LEVEL - SECURE AREA',\n",
    "        'AIRPORT TRANSPORTATION SYSTEM (ATS)',\n",
    "        'AIRPORT VENDING ESTABLISHMENT', 'AIRPORT/AIRCRAFT'\n",
    "    } ,\n",
    "    \n",
    "    'Hospitals & Related':{\n",
    "        'ANIMAL HOSPITAL', \n",
    "        'HOSPITAL BUILDING/GROUNDS', \n",
    "        'MEDICAL/DENTAL OFFICE', \n",
    "        'NURSING HOME',\n",
    "        'NURSING HOME/RETIREMENT HOME',\n",
    "    },\n",
    "    \n",
    "    'Residential & Related':{\n",
    "        'APARTMENT',\n",
    "        'BASEMENT', \n",
    "        'STAIRWELL', \n",
    "        'CHA APARTMENT', #Chicago Housing Autority\n",
    "        'CHA HALLWAY',\n",
    "        'CHA HALLWAY/STAIRWELL/ELEVATOR',\n",
    "        'CHA PARKING LOT',\n",
    "        'CHA PARKING LOT/GROUNDS', \n",
    "        'DRIVEWAY - RESIDENTIAL', \n",
    "        'PORCH',\n",
    "        'RESIDENCE',\n",
    "        'RESIDENCE PORCH/HALLWAY',\n",
    "        'RESIDENCE-GARAGE',\n",
    "        'RESIDENTIAL YARD (FRONT/BACK)',  \n",
    "        'ROOMING HOUSE',\n",
    "        'GARAGE', \n",
    "        'HOTEL/MOTEL',\n",
    "        'HOUSE',\n",
    "    },\n",
    "    \n",
    "    'Colleges & Related': {\n",
    "        'SCHOOL, PRIVATE, BUILDING',\n",
    "        'SCHOOL, PRIVATE, GROUNDS',\n",
    "        'SCHOOL, PUBLIC, BUILDING',\n",
    "        'SCHOOL, PUBLIC, GROUNDS', \n",
    "        'COLLEGE/UNIVERSITY GROUNDS',\n",
    "        'COLLEGE/UNIVERSITY RESIDENCE HALL', \n",
    "        'DAY CARE CENTER', \n",
    "        'SCHOOL YARD',\n",
    "                         },\n",
    "    \n",
    "    'Goverment Buildings & Related':{ \n",
    "        'FEDERAL BUILDING',\n",
    "        'FIRE STATION', \n",
    "        'FOREST PRESERVE', \n",
    "        'POLICE FACILITY/VEH PARKING LOT',\n",
    "        'GOVERNMENT BUILDING/PROPERTY', \n",
    "        'JAIL / LOCK-UP FACILITY', \n",
    "        'LIBRARY',\n",
    "        'PARK PROPERTY',},\n",
    "    \n",
    "    'Liquor Stores & Related':{\n",
    "        'TAVERN',\n",
    "        'TAVERN/LIQUOR STORE', \n",
    "        'BAR OR TAVERN', \n",
    "        'CLUB',  \n",
    "        'POOL ROOM',\n",
    "         },\n",
    "    \n",
    "    'Stores & Related':{\n",
    "        'SMALL RETAIL STORE',\n",
    "        'APPLIANCE STORE',\n",
    "        'BARBERSHOP', \n",
    "        'ATHLETIC CLUB', \n",
    "        'BOWLING ALLEY', \n",
    "        'CAR WASH', \n",
    "        'CLEANING STORE', \n",
    "        'COIN OPERATED MACHINE', \n",
    "        'COMMERCIAL / BUSINESS OFFICE',\n",
    "        'CONVENIENCE STORE', \n",
    "        'DEPARTMENT STORE', \n",
    "        'DRUG STORE', \n",
    "        'VESTIBULE',  \n",
    "        'GAS STATION',\n",
    "        'GAS STATION DRIVE/PROP.', \n",
    "        'RESTAURANT', \n",
    "        'GROCERY FOOD STORE', \n",
    "        'RETAIL STORE', \n",
    "        'MOVIE HOUSE/THEATER', \n",
    "        'FACTORY/MANUFACTURING BUILDING',\n",
    "        'NEWSSTAND',\n",
    "        'PARKING LOT',},\n",
    "    \n",
    "    'Vehicles & Related':{\n",
    "        'VEHICLE - DELIVERY TRUCK',\n",
    "        'VEHICLE - OTHER RIDE SERVICE',\n",
    "        'VEHICLE - OTHER RIDE SHARE SERVICE (E.G., UBER, LYFT)',\n",
    "        'VEHICLE NON-COMMERCIAL',\n",
    "        'VEHICLE-COMMERCIAL','TAXICAB', 'AUTO',\n",
    "        'AUTO / BOAT / RV DEALERSHIP','BOAT/WATERCRAFT', 'GANGWAY', 'OTHER COMMERCIAL TRANSPORTATION',\n",
    "        \n",
    "        \n",
    "    }, \n",
    "    \n",
    "    'Public Transport & Related':{\n",
    "        'CTA \"L\" PLATFORM',\n",
    "        'CTA BUS',\n",
    "        'CTA BUS STOP',\n",
    "        'CTA GARAGE / OTHER PROPERTY',\n",
    "        'CTA PLATFORM',\n",
    "        'CTA PROPERTY',\n",
    "        'CTA STATION',\n",
    "        'CTA TRACKS - RIGHT OF WAY',\n",
    "        'CTA TRAIN', 'OTHER RAILROAD PROP / TRAIN DEPOT',\n",
    "\n",
    "                    },\n",
    "    \n",
    "    'Street & Related': {\n",
    "        'ALLEY', \n",
    "        'BRIDGE', \n",
    "        'CEMETARY',\n",
    "        'CHURCH',\n",
    "        'CHURCH/SYNAGOGUE/PLACE OF WORSHIP', \n",
    "        'CONSTRUCTION SITE', \n",
    "        'DRIVEWAY', \n",
    "        'YARD', \n",
    "        'VACANT LOT',\n",
    "        'VACANT LOT/LAND', \n",
    "        'SIDEWALK', \n",
    "        'PARKING LOT/GARAGE(NON.RESID.)', \n",
    "        'ABANDONED BUILDING', \n",
    "        'STREET', \n",
    "        'HIGHWAY/EXPRESSWAY',  \n",
    "        'HALLWAY',\n",
    "        'LAKEFRONT/WATERFRONT/RIVERBANK', \n",
    "        'SPORTS ARENA/STADIUM'    \n",
    "        \n",
    "    },\n",
    "    \n",
    "    'Bank & Related':{\n",
    "        'BANK',\n",
    "        'ATM (AUTOMATIC TELLER MACHINE)', \n",
    "        'CREDIT UNION', \n",
    "        'CURRENCY EXCHANGE', \n",
    "        'RIVER BANK',\n",
    "        'SAVINGS AND LOAN', \n",
    "        'PAWN SHOP', \n",
    "        'WAREHOUSE'},\n",
    "    \n",
    "    'Other Locations':{'OTHER', }\n",
    "    \n",
    "}\n",
    "\n",
    "\n",
    "Offenses_dict={\n",
    "    'Theft Related': {\n",
    "        'BURGLARY', \n",
    "        'THEFT',\n",
    "        'CRIMINAL TRESPASS', \n",
    "        'MOTOR VEHICLE THEFT', \n",
    "        'ROBBERY',\n",
    "        },\n",
    "    \n",
    "    'Property Damage': {\n",
    "        'CRIMINAL DAMAGE', \n",
    "        'ARSON', \n",
    "        },\n",
    "\n",
    "    'Violence & Related' :{\n",
    "        'BATTERY',\n",
    "        'ASSAULT',\n",
    "        'KIDNAPPING',   \n",
    "        'HOMICIDE', \n",
    "        },\n",
    "    \n",
    "    'Sexual Offenses & Related':{\n",
    "        'CRIM SEXUAL ASSAULT',\n",
    "        'SEX OFFENSE',\n",
    "        'OBSCENITY',\n",
    "        'HUMAN TRAFFICKING', \n",
    "        'PROSTITUTION',\n",
    "        'PUBLIC INDECENCY',\n",
    "        'STALKING',\n",
    "        'OFFENSE INVOLVING CHILDREN'},\n",
    "    \n",
    "    'Dangerous practices':{ \n",
    "        'DECEPTIVE PRACTICE', \n",
    "        'WEAPONS VIOLATION',\n",
    "        'INTIMIDATION',\n",
    "        'CONCEALED CARRY LICENSE VIOLATION',\n",
    "        'INTERFERENCE WITH PUBLIC OFFICER'},\n",
    "    \n",
    "    'Substances & Related':{\n",
    "        'NARCOTICS',\n",
    "        'OTHER NARCOTIC VIOLATION',\n",
    "        'GAMBLING', \n",
    "        'LIQUOR LAW VIOLATION'},\n",
    "    \n",
    "    'Other Offenses':{\n",
    "        'PUBLIC PEACE VIOLATION'\n",
    "        'NON-CRIMINAL',\n",
    "        'OTHER OFFENSE',\n",
    "        'NON-CRIMINAL (SUBJECT SPECIFIED)' }}"
   ]
  },
  {
   "cell_type": "markdown",
   "metadata": {
    "tags": [
     "10_min"
    ]
   },
   "source": [
    "### Exercise 1\n",
    "\n",
    "Use the provided dictionaries to create a contingency table of the grouped categories. What conclusions can you make? "
   ]
  },
  {
   "cell_type": "markdown",
   "metadata": {
    "tags": [
     "ans_st"
    ]
   },
   "source": [
    "**Answer.**"
   ]
  },
  {
   "cell_type": "markdown",
   "metadata": {},
   "source": [
    "-------"
   ]
  },
  {
   "cell_type": "markdown",
   "metadata": {},
   "source": [
    "In order to visualize the data a little better, let's calculate and plot the proportions of offenses that occurred in each location category. This can be done as follows:"
   ]
  },
  {
   "cell_type": "code",
   "execution_count": null,
   "metadata": {},
   "outputs": [],
   "source": [
    "Offense_Location_prop= round(Offense_Location_cross.div(Offense_Location_cross.sum(axis=1), axis=0)*100,2)\n",
    "Offense_Location_prop"
   ]
  },
  {
   "cell_type": "code",
   "execution_count": null,
   "metadata": {},
   "outputs": [],
   "source": [
    "plt_prop = Offense_Location_prop.plot(kind='bar', stacked = True, width = 1,colormap='tab20')\n",
    "plt_prop.legend(bbox_to_anchor=(1,1), loc='upper left', ncol = 1)\n",
    "_ = plt.ylabel(\"Cumulative Percentage\")"
   ]
  },
  {
   "cell_type": "markdown",
   "metadata": {
    "tags": [
     "5_min"
    ]
   },
   "source": [
    "### Exercise 2\n",
    "\n",
    "What conclusions can you make from the plot and table above?"
   ]
  },
  {
   "cell_type": "markdown",
   "metadata": {
    "tags": [
     "ans_st"
    ]
   },
   "source": [
    "**Answer.**"
   ]
  },
  {
   "cell_type": "markdown",
   "metadata": {},
   "source": [
    "-------"
   ]
  },
  {
   "cell_type": "markdown",
   "metadata": {},
   "source": [
    "We can also flip the script and construct the table with the proportions of crime types for each location category. Looking at both sets of proportions can give us information that was not so apparent from the contingency table itself:"
   ]
  },
  {
   "cell_type": "code",
   "execution_count": null,
   "metadata": {},
   "outputs": [],
   "source": [
    "Location_Offense_prop= round(Offense_Location_cross.div(Offense_Location_cross.sum(axis=0), axis=1)*100,2)\n",
    "Location_Offense_prop"
   ]
  },
  {
   "cell_type": "code",
   "execution_count": null,
   "metadata": {},
   "outputs": [],
   "source": [
    "plt_prop_new = Location_Offense_prop.transpose().plot(kind='bar', stacked = True, width = 1)\n",
    "plt_prop_new.legend(bbox_to_anchor=(1.5,1), loc='upper right', ncol = 1)\n",
    "_ = plt.ylabel(\"Cumulative Percentage\")"
   ]
  },
  {
   "cell_type": "markdown",
   "metadata": {
    "tags": [
     "5_min"
    ]
   },
   "source": [
    "### Exercise 3\n",
    "\n",
    "What conclusions can you make from the table and stacked bar chart above? Do these results still support a crime type-location type interaction?"
   ]
  },
  {
   "cell_type": "markdown",
   "metadata": {
    "tags": [
     "ans_st"
    ]
   },
   "source": [
    "**Answer.**"
   ]
  },
  {
   "cell_type": "markdown",
   "metadata": {},
   "source": [
    "-------"
   ]
  },
  {
   "cell_type": "markdown",
   "metadata": {
    "tags": [
     "10_min"
    ]
   },
   "source": [
    "## Chi-square test based on contingency tables\n",
    "\n",
    "We have generated the contingency table of `Primary Type` vs. `Location Description` and observed that the crime type specific breakdowns of locations are not uniform. We conclude that there might be an interaction between these two variables. We can formally test if the variations we observed indeed reflect actual differences or if they are just a byproduct of randomness. There are many different ways to perform the test but we will focus on the most widely used test: the **Chi-square test** ($\\chi^2$-test). The null hypothesis for the Chi-square test is:\n",
    "\n",
    "$$\n",
    "H_0:\\text{Primary Type is independent of Location Description}\n",
    "$$\n",
    "\n",
    "We do not need a formal definition for \"independent\". Intuitively, \"independence between two variables\" means that the distribution of values of one variable remains the same even as the value of the second variable changes (and vice versa). In our case, this means that the proportions of different crime types remains the same even as we look at different crime locations. The data seems to indicate otherwise, so let's discuss how to numerically summarize the data to formally examine the null hypothesis:"
   ]
  },
  {
   "cell_type": "code",
   "execution_count": null,
   "metadata": {},
   "outputs": [],
   "source": [
    "type_prop = (df[\"Primary Type\"].value_counts()/df[\"Primary Type\"].count()).sort_index()\n",
    "type_prop"
   ]
  },
  {
   "cell_type": "markdown",
   "metadata": {},
   "source": [
    "Similarly, the proportions of all distinct values of `Location Description` are:"
   ]
  },
  {
   "cell_type": "code",
   "execution_count": null,
   "metadata": {},
   "outputs": [],
   "source": [
    "location_prop = (df[\"Location Description\"].value_counts()/df[\"Location Description\"].count()).sort_index()\n",
    "location_prop"
   ]
  },
  {
   "cell_type": "markdown",
   "metadata": {},
   "source": [
    "Under the null hypothesis, the expected numbers of occurrences for all pairwise combinations of values of `Primary Type` and `Location Description` should be the product of the corresponding values in the above two tables, times the total number of records in the dataset. For example, the total number of occurrences of battery crime in apartments should be approximately 0.184214 times 0.125190 times the total number of crime instances in our entire dataset.\n",
    "\n"
   ]
  },
  {
   "cell_type": "code",
   "execution_count": null,
   "metadata": {},
   "outputs": [],
   "source": [
    "primary_location_cross = pd.crosstab(df['Primary Type'], df['Location'])\n",
    "g, p, dof, expctd = chi2_contingency(primary_location_cross)\n",
    "print(\"p-value of Chi-square test for Primary Type vs. Location =\", p)"
   ]
  },
  {
   "cell_type": "markdown",
   "metadata": {},
   "source": [
    "We can see the $p$ - value is extremely small and thus reject the null hypothesis and conclude that `Primary Type` and `Location Description` are not independent. In other words, the proportions of distinct value of `Primary Type` do not remain the same across different values of `Location Description`, which is exactly what we observed in the data."
   ]
  },
  {
   "cell_type": "markdown",
   "metadata": {
    "tags": [
     "10_min"
    ]
   },
   "source": [
    "### Exercise 4\n",
    "\n",
    "Our client is interested in violent crimes around residential areas. In order to gather some information, you talk to a police officer who tells you the following: \n",
    "\n",
    "\"From my experience, violent crime offenses do not discriminate by location around residential areas. I have seen everything happen, everywhere.\" \n",
    "\n",
    "What do you think about this statement? Use a Chi-squared test to verify your findings."
   ]
  },
  {
   "cell_type": "markdown",
   "metadata": {
    "tags": [
     "ans_st"
    ]
   },
   "source": [
    "**Answer.**"
   ]
  },
  {
   "cell_type": "markdown",
   "metadata": {},
   "source": [
    "-------"
   ]
  },
  {
   "cell_type": "markdown",
   "metadata": {
    "tags": [
     "25_min"
    ]
   },
   "source": [
    "## Chi-square test for primary type vs. day of week\n",
    "\n",
    "Sometimes, when we perform the Chi-square test, one of the variables (or even both of them) is not naturally discrete (for example, crime time). However, we can discretize the variable and perform the Chi-square test on the discretized versions. We will now discretize the time variable into day-of-the-week buckets and test if the day of the week is independent of crime types. This test will inform us if we should vary police force deployment according to the day of week. Let's get started:"
   ]
  },
  {
   "cell_type": "code",
   "execution_count": null,
   "metadata": {},
   "outputs": [],
   "source": [
    "# discretize time\n",
    "df[\"date_py\"] = pd.to_datetime(df.Date)\n",
    "df[\"day_of_week\"] = df.date_py.dt.dayofweek\n",
    "type_dow_cross = pd.crosstab(df['Primary Type'], df['day_of_week'])\n",
    "type_dow_cross"
   ]
  },
  {
   "cell_type": "markdown",
   "metadata": {},
   "source": [
    "The following code gives the result of performing a Chi-square test:"
   ]
  },
  {
   "cell_type": "code",
   "execution_count": null,
   "metadata": {},
   "outputs": [],
   "source": [
    "g, p, dof, expctd = chi2_contingency(type_dow_cross)\n",
    "print(\"p-value of Chi-square test for Primary Type vs. Day of week =\", p)"
   ]
  },
  {
   "cell_type": "markdown",
   "metadata": {},
   "source": [
    "The results indicate that `Primary Type` and `day_of_week` are not independent. Let's visualize the distribution of the top 10 crimes for each day of the week with a stacked bar chart:"
   ]
  },
  {
   "cell_type": "code",
   "execution_count": null,
   "metadata": {},
   "outputs": [],
   "source": [
    "row_idx = df['Primary Type'].value_counts().index[:10]\n",
    "type_dow_plt_dat = round(type_dow_cross.div(type_dow_cross.sum(axis=0), axis=1).loc[row_idx,:]*100,2).T\n",
    "plt_type_dow = type_dow_plt_dat.plot(kind='bar', stacked = True, rot = 0)\n",
    "plt_type_dow.legend(bbox_to_anchor=(1.5,1), loc='upper right', ncol = 1)\n",
    "_ = plt.ylabel(\"Cumulative Percentage\")"
   ]
  },
  {
   "cell_type": "markdown",
   "metadata": {},
   "source": [
    "From this, we can see that battery tends to be more prevalent on Fridays and Saturdays, while theft tends to decrease on Saturdays."
   ]
  },
  {
   "cell_type": "markdown",
   "metadata": {
    "tags": [
     "15_min"
    ]
   },
   "source": [
    "### Exercise 5\n",
    "\n",
    "We suspect that throughout the course of a typical day, the distribution of crime locations may shift materially. Conduct a test to determine if this is the case. If this is the case, identify the potential shift by constructing a stacked bar chart that shows the proportion of crimes in each of the top 10 locations for each hour of the day."
   ]
  },
  {
   "cell_type": "markdown",
   "metadata": {
    "tags": [
     "ans_st"
    ]
   },
   "source": [
    "**Answer.**"
   ]
  },
  {
   "cell_type": "markdown",
   "metadata": {},
   "source": [
    "-------"
   ]
  },
  {
   "cell_type": "markdown",
   "metadata": {
    "tags": [
     "5_min"
    ]
   },
   "source": [
    "## Conclusions\n",
    "\n",
    "In this case, we performed the Chi-square test to validate various patterns and relationships that we observed between various features in our previous EDA of Chicago crime incidents. This test provided statistical evidence that the pattern we saw in the contingency tables previously was not just due to chance. This provides strong backing for the police department to take the big step of reorganizing their force in line with our observations."
   ]
  },
  {
   "cell_type": "markdown",
   "metadata": {
    "tags": [
     "5_min"
    ]
   },
   "source": [
    "## Takeaways\n",
    "\n",
    "In this case, we've learned another method to statistically validate the patterns we observe from exploratory data analysis. More specifically, we have:\n",
    "\n",
    "1. Learned how contingency tables are useful for detecting patterns across categorical variables. In particular, we have seen that taking proportions and using stacked bar plots is useful to better understand the results of a contingency table. \n",
    "2. Learned the concept of feature independence. This is a fundamental concept in statistics and data analysis. If we want to detect patterns in data, it is fundamental that we first look for evidence of dependency across features. \n",
    "3. Learned how to perform Chi-squared tests to examine if two discrete factors are independent. This test, along with the $t$-test, is one the pillars of statistical hypothesis. You will use these tests very often when analyzing data. \n",
    "4. Finally, we have learned how to deal with continuous variables such as time when using the Chi-squared test. This is done by creating artificial (but meaningful) categories which allow us to implement the test in these instances as well."
   ]
  }
 ],
 "metadata": {
  "kernelspec": {
   "display_name": "Python 3",
   "language": "python",
   "name": "python3"
  },
  "language_info": {
   "codemirror_mode": {
    "name": "ipython",
    "version": 3
   },
   "file_extension": ".py",
   "mimetype": "text/x-python",
   "name": "python",
   "nbconvert_exporter": "python",
   "pygments_lexer": "ipython3",
   "version": "3.6.7"
  }
 },
 "nbformat": 4,
 "nbformat_minor": 2
}
