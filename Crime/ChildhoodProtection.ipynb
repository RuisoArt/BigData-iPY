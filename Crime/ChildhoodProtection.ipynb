{
 "cells": [
  {
   "cell_type": "markdown",
   "id": "7b2701f4-f68e-436b-b525-73ba25e8fc09",
   "metadata": {},
   "source": [
    "# Childhood UNICEF"
   ]
  },
  {
   "cell_type": "markdown",
   "id": "95c58264-b19e-450c-b8e5-fe0396ed3ca9",
   "metadata": {},
   "source": [
    "Enlace: https://www.kaggle.com/datasets/nguyenngocphung/unicef-state-of-world-children-2021?select=Table-1-Demographics-SOWC2021-EN.xlsx\n",
    "\n",
    "\n",
    "DESCRIPTION OF EACH TABLE 🐱 🐭 🐹\n",
    "\n",
    "==============================================\n",
    "TABLE 1. DEMOGRAPHICS 🦀\n",
    "\n",
    "The demographics table contains selected indicators on some of the most important demographic information of each population, including the total population and broken down by age, as well as annual population growth rates. The annual number of births is a function of both population size and current fertility. The total fertility rate allows for comparison of fertility levels internationally. A total fertility level of 2.1 is called ‘replacement level’ and represents a level at which, in the long term, the population would remain the same size. Life expectancy at birth is a measure of the health status and the development of a population and continues to increase in almost all countries in the world. The dependency ratio is the ratio of the not-working-age population (i.e., the economically ‘dependent’ population) to the working-age population (15–64 years). This can be divided into a child dependency ratio (ratio of children under 15 to working age population) and an old-age dependency ratio (ratio of population 65 and older to working-age population). The total dependency ratio is usually U-shaped over time reflecting a changing age structure as a result of the demographic transition. This can be understood as the combination of opposing trends in child and old-age dependency ratios. For example, decreasing fertility leads to a decreasing share of children in the population and therefore to a decrease in the child dependency ratio. Increasing life expectancy (as consequence of decreasing mortality) will lead to a larger share of older people and therefore to an increase in the old-age dependency ratio. The proportion of the urban population and the annual urban population growth rate describe the status and dynamics of the urbanization process. The net migration rate refers to the difference between the number of immigrants and the number of emigrants; a country/ area with more immigrants than emigrants shows a positive value, while a country with less immigrants than emigrants shows a negative value.\n",
    "\n",
    "================================================\n",
    "TABLE 2. CHILD MORTALITY 🦎\n",
    "\n",
    "Each year, in The State of the World’s Children report, UNICEF presents a series of mortality estimates for children. These figures represent the best estimates available at the time of printing and are based on the work of the United Nations Inter-Agency Group for Child Mortality Estimation (UN IGME), which includes UNICEF, the World Health Organization (WHO), the World Bank group and the United Nations Population Division. UN IGME mortality estimates are updated annually through a detailed review of all newly available data, which can result in adjustments to previously reported estimates. As a result, consecutive editions of The State of the World’s Children should not be used for analysing mortality trends over time. Comparable global and regional under five mortality estimates for the period 1990–2019 are presented below.\n",
    "\n",
    "===============================================\n",
    "TABLE 3. MATERNAL AND NEWBORN HEALTH 🐯\n",
    "\n",
    "The maternal and newborn health table includes a combination of demographic and intervention coverage indicators. The demographic indicators consist of life expectancy for females, adolescent birth rate, and maternal mortality estimates including the number of maternal deaths, maternal mortality ratio, and lifetime risk of maternal death.\n",
    "\n",
    "=============================================\n",
    "TABLE 4. CHILD HEALTH 🐦\n",
    "\n",
    "The child health table includes a set of indicators that capture information on the coverage of effective interventions delivered to children under the age of five years and at the household level. These include a range of immunization indicators (described below) and indicators on interventions for the prevention or treatment of pneumonia, diarrhoea and malaria (the three leading killers of young children). The main data sources for the indicators on prevention and treatment of childhood illnesses are nationally representative household surveys such as the DHS and MICS. Regional and global estimates are calculated by using a weighted average method. Variables used for weighting are indicator-specific and applied to each country. They accord with the appropriate target population for each indicator (the denominator) and are derived from the latest edition of the World Population Prospects. Only the most recent data points from 2015– 2020 for each country were used to calculate regional and global estimates. For indicators that capture information about households, total population was used.\n",
    "\n",
    "===============================================\n",
    "TABLE 5. ADOLESCENT HEALTH 🐋\n",
    "\n",
    "This table contains a set of key indicators related to adolescent health, well-being and mortality. Mortality indicators include adolescent mortality rate for ages 10–19, the number for adolescent deaths as well as the annual rate of reduction in the adolescent mortality rate for the period 2000–2019. Reproductive health indicators presented in this table include adolescent birth rate, early childbearing (which refers to women aged 20–24 years who gave birth before age 18) and demand for family planning satisfied with modern methods among adolescents aged 15–19. The following maternal health indicators are presented for adolescents aged 15–19: Antenatal care with at least four visits and skilled birth attendant. The following risk factors for noncommunicable diseases (NCDs) are presented: Alcohol use among adolescents ages 15–19, tobacco use among adolescents ages 13–15 and insufficient physical activity among school going adolescents ages 11–17. Vaccination against human papillomavirus (HPV) is presented for girls who received the last dose of the HPV vaccine per national schedule. WHO/UNICEF produce two main coverage indicators for HPV vaccination. One is the HPV vaccination programme performance coverage that describes vaccination coverage according to a national schedule and the programme’s eligibility criteria for each calendar year (programme’s target population up to 14 years of age). The second describes HPV vaccination coverage by age 15, representing the proportion of the population turning 15 in the reporting year who have been vaccinated against HPV at any time between the ages of 9–14, at any time up to the calendar year in question.\n",
    "\n",
    "==============================================\n",
    "TABLES 6,7: HIV/AIDS 🦂\n",
    "\n",
    "In 2021, the Joint United Nations Programme on HIV/AIDS (UNAIDS) released new global, regional and country-level HIV and AIDS estimates for 2020 that reflect the most up-to-date epidemiological estimates. The estimates also reflect coverage data for antiretroviral therapy (ART), prevention of mother-to-child transmission (PMTCT) and early infant diagnosis for HIV. The estimates are based on the most current available science and WHO programme guidelines. These guidelines have resulted in improvements in assumptions of the probability of HIV transmission from mother-to-child, fertility among women by age and HIV serostatus, net survival rates for children living with HIV and more. Based on this refined methodology, UNAIDS has retrospectively generated new estimates of HIV prevalence, the number of people living with HIV and those needing treatment, AIDS-related deaths, new HIV infections, and other important trends in the HIV epidemic. Key indicators on the HIV response for children are divided into two tables: Table 6. HIV/AIDS: epidemiology and Table 7. HIV/AIDS: interventions.\n",
    "\n",
    "================================================\n",
    "TABLES 8, 9: NUTRITION 🐴\n",
    "\n",
    "Table 8 encompasses estimates of malnutrition at birth among pre-school-aged children, school-aged children and women of reproductive age as well as coverage of birth weighing and key micronutrient programmes. Table 9 encompasses feeding practices for infants and young children. Estimates for low birthweight, stunting and overweight among pre-school children, thinness and overweight among school-aged children, and maternal underweight and anaemia are from country models. For this reason, these may be different from survey-reported estimates. For all other indicators, when raw data were available, the country-level estimates were re-analysed to conform to standard analysis methods and may therefore differ from survey-reported values.\n",
    "\n",
    "=========================================================\n",
    "TABLE 11: EDUCATION 🐙\n",
    "\n",
    "This table contains a set of indicators on the aspects of children’s education: equitable access, school completion and learning outcomes. This table first provides information about equitable access, as measured by the out-of-school children rate (SDG4.1.4). Estimates shown in this table were calculated using the UNESCO Institute for Statistics (UIS) database. The out-of-school children rate identifies the population part in the official age range for a given level of education not attending school, in order to formulate targeted policies that can be put in place to ensure equitable access to education.\n",
    "\n",
    "===============================================\n",
    "TABLE 12. CHILD PROTECTION 🐞\n",
    "\n",
    "Child protection refers to the prevention of and response to violence, exploitation and abuse of children in all contexts. There are many violations that children can be subjected to, but the lack of comparable data limits reporting on the full spectrum. In view of this, the child protection table presents data on a few issues for which comparable and nationally representative data are available. This includes two manifestations of harmful traditional practices, some forms of violence and exploitation as well as the official recording of births.\n",
    "\n",
    "===============================================\n",
    "TABLE 14. WASH 💐\n",
    "\n",
    "This table contains a set of indicators on access to basic drinking water, sanitation and hygiene (WASH) services in households, schools and healthcare facilities. The WASH estimates in this report come from the WHO/ UNICEF Joint Monitoring Programme for Water Supply, Sanitation and Hygiene (JMP). Full details of the JMP indicator definitions, data sources and methods used to produce sub-national, national, regional and global estimates can be found at \n",
    "\n",
    "\n",
    "\n",
    "\n",
    "**Los dataset originales se modificaron para poder ser analizados correctamente con Dataframe**"
   ]
  },
  {
   "cell_type": "markdown",
   "id": "d8a32365-6715-4baa-9f67-62f9fe43b2cb",
   "metadata": {},
   "source": []
  },
  {
   "cell_type": "code",
   "execution_count": 1,
   "id": "bd9b3da2-3c0a-4dbe-a2e9-736358a422cc",
   "metadata": {},
   "outputs": [],
   "source": [
    "import numpy as np\n",
    "import pandas as pd\n",
    "import seaborn as sns\n",
    "import os"
   ]
  },
  {
   "cell_type": "code",
   "execution_count": 2,
   "id": "fea9823e-c6be-454b-8706-614276ec3596",
   "metadata": {},
   "outputs": [],
   "source": [
    "from IPython.display import Image"
   ]
  },
  {
   "cell_type": "code",
   "execution_count": 3,
   "id": "bc3d4385-a2f5-4eaa-89f8-30fcdbe23aaf",
   "metadata": {},
   "outputs": [
    {
     "data": {
      "image/png": "[encoded data removed]",
      "text/plain": [
       "<IPython.core.display.Image object>"
      ]
     },
     "execution_count": 3,
     "metadata": {},
     "output_type": "execute_result"
    }
   ],
   "source": [
    "Image(\"assets/image/UNICEFHEALTH.png\")"
   ]
  },
  {
   "cell_type": "markdown",
   "id": "bf13d41c-4d11-46f3-898a-8be416b63c32",
   "metadata": {},
   "source": [
    "1. Total child labour between 2012-2019\n",
    "2. Male child labour between 2012-2019\n",
    "3. Female child labour between 2012-2019\n",
    "4. Female child marriage married by 15 between 2014-2020 \n",
    "5. Female child marriage married by 18 between 2014-2020 \n",
    "6. Male child marriage married by 18 between 2014-2020 \n",
    "7. Total birth registration between 2011-2020\n",
    "8. Male birth registration between 2011-2020\n",
    "9. Female birth registration between 2011-2020\n",
    "10. Women genital mutilation prevalence between 2012-2020\n",
    "11. Girls genital mutilation prevalence between 2012-2020\n",
    "12. Male genital mutilation attitudes want the practice to stop between 2012-2020\n",
    "13. Female genital mutilation attitudes want the practice to stop between 2012 2020\n",
    "14. Male justification of wifebeating among adolescents between 2014 2020\n",
    "15. Female justification of wifebeating among adolescents between 2014-2020\n",
    "16. Total violent discipline between 2012–2020 \n",
    "17. Male violent discipline between 2012–2020 \n",
    "18. Female violent discipline between 2012–2020 \n",
    "19. Male sexual violence in childhood between 2012–2019 \n",
    "20. Female sexual violence in childhood between 2012–2019 \n"
   ]
  },
  {
   "cell_type": "code",
   "execution_count": 6,
   "id": "8c399d58-4be5-4aa0-a195-7a89cbf704d3",
   "metadata": {},
   "outputs": [],
   "source": [
    "dataset_Child = \"dataset/UNICEFStateWorldChildren2021/New/Child-Protection.xlsx\""
   ]
  },
  {
   "cell_type": "code",
   "execution_count": 7,
   "id": "8dfe7927-3a9d-49a0-94e3-113725d9bf90",
   "metadata": {},
   "outputs": [],
   "source": [
    "df_Child = pd.read_excel(dataset_Child)"
   ]
  },
  {
   "cell_type": "code",
   "execution_count": 8,
   "id": "6f947e0c-0469-4fa5-ac2b-b95f3e0d2427",
   "metadata": {},
   "outputs": [
    {
     "data": {
      "text/html": [
       "<div>\n",
       "<style scoped>\n",
       "    .dataframe tbody tr th:only-of-type {\n",
       "        vertical-align: middle;\n",
       "    }\n",
       "\n",
       "    .dataframe tbody tr th {\n",
       "        vertical-align: top;\n",
       "    }\n",
       "\n",
       "    .dataframe thead th {\n",
       "        text-align: right;\n",
       "    }\n",
       "</style>\n",
       "<table border=\"1\" class=\"dataframe\">\n",
       "  <thead>\n",
       "    <tr style=\"text-align: right;\">\n",
       "      <th></th>\n",
       "      <th>Countries</th>\n",
       "      <th>1</th>\n",
       "      <th>2</th>\n",
       "      <th>3</th>\n",
       "      <th>4</th>\n",
       "      <th>5</th>\n",
       "      <th>6</th>\n",
       "      <th>7</th>\n",
       "      <th>8</th>\n",
       "      <th>9</th>\n",
       "      <th>...</th>\n",
       "      <th>11</th>\n",
       "      <th>12</th>\n",
       "      <th>13</th>\n",
       "      <th>14</th>\n",
       "      <th>15</th>\n",
       "      <th>16</th>\n",
       "      <th>17</th>\n",
       "      <th>18</th>\n",
       "      <th>19</th>\n",
       "      <th>20</th>\n",
       "    </tr>\n",
       "  </thead>\n",
       "  <tbody>\n",
       "    <tr>\n",
       "      <th>0</th>\n",
       "      <td>Afghanistan</td>\n",
       "      <td>21.39</td>\n",
       "      <td>22.78000</td>\n",
       "      <td>19.85000</td>\n",
       "      <td>4.201457</td>\n",
       "      <td>28.25738</td>\n",
       "      <td>7.3</td>\n",
       "      <td>42.3</td>\n",
       "      <td>42.7</td>\n",
       "      <td>41.9</td>\n",
       "      <td>...</td>\n",
       "      <td>NaN</td>\n",
       "      <td>NaN</td>\n",
       "      <td>NaN</td>\n",
       "      <td>70.6</td>\n",
       "      <td>78.3</td>\n",
       "      <td>74.4</td>\n",
       "      <td>74.8</td>\n",
       "      <td>74.1</td>\n",
       "      <td>NaN</td>\n",
       "      <td>1.1</td>\n",
       "    </tr>\n",
       "    <tr>\n",
       "      <th>1</th>\n",
       "      <td>Albania</td>\n",
       "      <td>3.30</td>\n",
       "      <td>3.60000</td>\n",
       "      <td>3.00000</td>\n",
       "      <td>1.387240</td>\n",
       "      <td>11.76054</td>\n",
       "      <td>1.2</td>\n",
       "      <td>98.4</td>\n",
       "      <td>98.9</td>\n",
       "      <td>98.0</td>\n",
       "      <td>...</td>\n",
       "      <td>NaN</td>\n",
       "      <td>NaN</td>\n",
       "      <td>NaN</td>\n",
       "      <td>10.9</td>\n",
       "      <td>4.7</td>\n",
       "      <td>47.5</td>\n",
       "      <td>49.4</td>\n",
       "      <td>45.4</td>\n",
       "      <td>NaN</td>\n",
       "      <td>NaN</td>\n",
       "    </tr>\n",
       "    <tr>\n",
       "      <th>2</th>\n",
       "      <td>Algeria</td>\n",
       "      <td>4.26</td>\n",
       "      <td>4.77566</td>\n",
       "      <td>3.71798</td>\n",
       "      <td>0.000000</td>\n",
       "      <td>3.80000</td>\n",
       "      <td>NaN</td>\n",
       "      <td>99.6</td>\n",
       "      <td>99.7</td>\n",
       "      <td>99.6</td>\n",
       "      <td>...</td>\n",
       "      <td>NaN</td>\n",
       "      <td>NaN</td>\n",
       "      <td>NaN</td>\n",
       "      <td>NaN</td>\n",
       "      <td>25.4</td>\n",
       "      <td>84.1</td>\n",
       "      <td>85.1</td>\n",
       "      <td>83.0</td>\n",
       "      <td>NaN</td>\n",
       "      <td>NaN</td>\n",
       "    </tr>\n",
       "  </tbody>\n",
       "</table>\n",
       "<p>3 rows × 21 columns</p>\n",
       "</div>"
      ],
      "text/plain": [
       "     Countries      1         2         3         4         5    6     7  \\\n",
       "0  Afghanistan  21.39  22.78000  19.85000  4.201457  28.25738  7.3  42.3   \n",
       "1      Albania   3.30   3.60000   3.00000  1.387240  11.76054  1.2  98.4   \n",
       "2      Algeria   4.26   4.77566   3.71798  0.000000   3.80000  NaN  99.6   \n",
       "\n",
       "      8     9  ...  11  12  13    14    15    16    17    18  19   20  \n",
       "0  42.7  41.9  ... NaN NaN NaN  70.6  78.3  74.4  74.8  74.1 NaN  1.1  \n",
       "1  98.9  98.0  ... NaN NaN NaN  10.9   4.7  47.5  49.4  45.4 NaN  NaN  \n",
       "2  99.7  99.6  ... NaN NaN NaN   NaN  25.4  84.1  85.1  83.0 NaN  NaN  \n",
       "\n",
       "[3 rows x 21 columns]"
      ]
     },
     "execution_count": 8,
     "metadata": {},
     "output_type": "execute_result"
    }
   ],
   "source": [
    "df_Child.head(3)"
   ]
  },
  {
   "cell_type": "code",
   "execution_count": 9,
   "id": "247ea99d-ec4c-4783-8a87-6f64d9706b16",
   "metadata": {},
   "outputs": [
    {
     "data": {
      "text/plain": [
       "(202, 21)"
      ]
     },
     "execution_count": 9,
     "metadata": {},
     "output_type": "execute_result"
    }
   ],
   "source": [
    "df_Child.shape"
   ]
  },
  {
   "cell_type": "code",
   "execution_count": 10,
   "id": "ff3e598f-b985-4fb9-bdb5-41da6d73e256",
   "metadata": {},
   "outputs": [
    {
     "name": "stdout",
     "output_type": "stream",
     "text": [
      "<class 'pandas.core.frame.DataFrame'>\n",
      "RangeIndex: 202 entries, 0 to 201\n",
      "Data columns (total 21 columns):\n",
      " #   Column     Non-Null Count  Dtype  \n",
      "---  ------     --------------  -----  \n",
      " 0   Countries  202 non-null    object \n",
      " 1   1          90 non-null     float64\n",
      " 2   2          90 non-null     float64\n",
      " 3   3          90 non-null     float64\n",
      " 4   4          128 non-null    float64\n",
      " 5   5          131 non-null    float64\n",
      " 6   6          96 non-null     float64\n",
      " 7   7          178 non-null    float64\n",
      " 8   8          161 non-null    float64\n",
      " 9   9          161 non-null    float64\n",
      " 10  10         30 non-null     float64\n",
      " 11  11         28 non-null     float64\n",
      " 12  12         20 non-null     float64\n",
      " 13  13         30 non-null     float64\n",
      " 14  14         80 non-null     float64\n",
      " 15  15         121 non-null    float64\n",
      " 16  16         87 non-null     float64\n",
      " 17  17         85 non-null     float64\n",
      " 18  18         85 non-null     float64\n",
      " 19  19         12 non-null     float64\n",
      " 20  20         57 non-null     float64\n",
      "dtypes: float64(20), object(1)\n",
      "memory usage: 33.3+ KB\n"
     ]
    }
   ],
   "source": [
    "df_Child.info()"
   ]
  },
  {
   "cell_type": "markdown",
   "id": "274021d2-0c24-4bee-8942-48eb11dbcc40",
   "metadata": {},
   "source": [
    "### Disciplina Violenta"
   ]
  },
  {
   "cell_type": "code",
   "execution_count": 11,
   "id": "ab154372-532c-48fe-a379-de37a531ac57",
   "metadata": {},
   "outputs": [
    {
     "data": {
      "text/html": [
       "<div>\n",
       "<style scoped>\n",
       "    .dataframe tbody tr th:only-of-type {\n",
       "        vertical-align: middle;\n",
       "    }\n",
       "\n",
       "    .dataframe tbody tr th {\n",
       "        vertical-align: top;\n",
       "    }\n",
       "\n",
       "    .dataframe thead th {\n",
       "        text-align: right;\n",
       "    }\n",
       "</style>\n",
       "<table border=\"1\" class=\"dataframe\">\n",
       "  <thead>\n",
       "    <tr style=\"text-align: right;\">\n",
       "      <th></th>\n",
       "      <th>Countries</th>\n",
       "      <th>1</th>\n",
       "      <th>2</th>\n",
       "      <th>3</th>\n",
       "      <th>4</th>\n",
       "      <th>5</th>\n",
       "      <th>6</th>\n",
       "      <th>7</th>\n",
       "      <th>8</th>\n",
       "      <th>9</th>\n",
       "      <th>...</th>\n",
       "      <th>11</th>\n",
       "      <th>12</th>\n",
       "      <th>13</th>\n",
       "      <th>14</th>\n",
       "      <th>15</th>\n",
       "      <th>16</th>\n",
       "      <th>17</th>\n",
       "      <th>18</th>\n",
       "      <th>19</th>\n",
       "      <th>20</th>\n",
       "    </tr>\n",
       "  </thead>\n",
       "  <tbody>\n",
       "    <tr>\n",
       "      <th>0</th>\n",
       "      <td>Afghanistan</td>\n",
       "      <td>21.39</td>\n",
       "      <td>22.78000</td>\n",
       "      <td>19.85000</td>\n",
       "      <td>4.201457</td>\n",
       "      <td>28.25738</td>\n",
       "      <td>7.3</td>\n",
       "      <td>42.3</td>\n",
       "      <td>42.7</td>\n",
       "      <td>41.9</td>\n",
       "      <td>...</td>\n",
       "      <td>NaN</td>\n",
       "      <td>NaN</td>\n",
       "      <td>NaN</td>\n",
       "      <td>70.6</td>\n",
       "      <td>78.3</td>\n",
       "      <td>74.4</td>\n",
       "      <td>74.8</td>\n",
       "      <td>74.1</td>\n",
       "      <td>NaN</td>\n",
       "      <td>1.1</td>\n",
       "    </tr>\n",
       "    <tr>\n",
       "      <th>1</th>\n",
       "      <td>Albania</td>\n",
       "      <td>3.30</td>\n",
       "      <td>3.60000</td>\n",
       "      <td>3.00000</td>\n",
       "      <td>1.387240</td>\n",
       "      <td>11.76054</td>\n",
       "      <td>1.2</td>\n",
       "      <td>98.4</td>\n",
       "      <td>98.9</td>\n",
       "      <td>98.0</td>\n",
       "      <td>...</td>\n",
       "      <td>NaN</td>\n",
       "      <td>NaN</td>\n",
       "      <td>NaN</td>\n",
       "      <td>10.9</td>\n",
       "      <td>4.7</td>\n",
       "      <td>47.5</td>\n",
       "      <td>49.4</td>\n",
       "      <td>45.4</td>\n",
       "      <td>NaN</td>\n",
       "      <td>NaN</td>\n",
       "    </tr>\n",
       "    <tr>\n",
       "      <th>2</th>\n",
       "      <td>Algeria</td>\n",
       "      <td>4.26</td>\n",
       "      <td>4.77566</td>\n",
       "      <td>3.71798</td>\n",
       "      <td>0.000000</td>\n",
       "      <td>3.80000</td>\n",
       "      <td>NaN</td>\n",
       "      <td>99.6</td>\n",
       "      <td>99.7</td>\n",
       "      <td>99.6</td>\n",
       "      <td>...</td>\n",
       "      <td>NaN</td>\n",
       "      <td>NaN</td>\n",
       "      <td>NaN</td>\n",
       "      <td>NaN</td>\n",
       "      <td>25.4</td>\n",
       "      <td>84.1</td>\n",
       "      <td>85.1</td>\n",
       "      <td>83.0</td>\n",
       "      <td>NaN</td>\n",
       "      <td>NaN</td>\n",
       "    </tr>\n",
       "  </tbody>\n",
       "</table>\n",
       "<p>3 rows × 21 columns</p>\n",
       "</div>"
      ],
      "text/plain": [
       "     Countries      1         2         3         4         5    6     7  \\\n",
       "0  Afghanistan  21.39  22.78000  19.85000  4.201457  28.25738  7.3  42.3   \n",
       "1      Albania   3.30   3.60000   3.00000  1.387240  11.76054  1.2  98.4   \n",
       "2      Algeria   4.26   4.77566   3.71798  0.000000   3.80000  NaN  99.6   \n",
       "\n",
       "      8     9  ...  11  12  13    14    15    16    17    18  19   20  \n",
       "0  42.7  41.9  ... NaN NaN NaN  70.6  78.3  74.4  74.8  74.1 NaN  1.1  \n",
       "1  98.9  98.0  ... NaN NaN NaN  10.9   4.7  47.5  49.4  45.4 NaN  NaN  \n",
       "2  99.7  99.6  ... NaN NaN NaN   NaN  25.4  84.1  85.1  83.0 NaN  NaN  \n",
       "\n",
       "[3 rows x 21 columns]"
      ]
     },
     "execution_count": 11,
     "metadata": {},
     "output_type": "execute_result"
    }
   ],
   "source": [
    "df = df_Child.copy()\n",
    "df.head(3)"
   ]
  },
  {
   "cell_type": "code",
   "execution_count": 12,
   "id": "81ae7e4c-8bdb-446e-ba16-45e57ed918ba",
   "metadata": {},
   "outputs": [
    {
     "data": {
      "text/html": [
       "<div>\n",
       "<style scoped>\n",
       "    .dataframe tbody tr th:only-of-type {\n",
       "        vertical-align: middle;\n",
       "    }\n",
       "\n",
       "    .dataframe tbody tr th {\n",
       "        vertical-align: top;\n",
       "    }\n",
       "\n",
       "    .dataframe thead th {\n",
       "        text-align: right;\n",
       "    }\n",
       "</style>\n",
       "<table border=\"1\" class=\"dataframe\">\n",
       "  <thead>\n",
       "    <tr style=\"text-align: right;\">\n",
       "      <th></th>\n",
       "      <th>Countries</th>\n",
       "      <th>17</th>\n",
       "      <th>18</th>\n",
       "      <th>19</th>\n",
       "      <th>20</th>\n",
       "    </tr>\n",
       "  </thead>\n",
       "  <tbody>\n",
       "    <tr>\n",
       "      <th>0</th>\n",
       "      <td>Afghanistan</td>\n",
       "      <td>74.8</td>\n",
       "      <td>74.1</td>\n",
       "      <td>NaN</td>\n",
       "      <td>1.1</td>\n",
       "    </tr>\n",
       "    <tr>\n",
       "      <th>1</th>\n",
       "      <td>Albania</td>\n",
       "      <td>49.4</td>\n",
       "      <td>45.4</td>\n",
       "      <td>NaN</td>\n",
       "      <td>NaN</td>\n",
       "    </tr>\n",
       "    <tr>\n",
       "      <th>2</th>\n",
       "      <td>Algeria</td>\n",
       "      <td>85.1</td>\n",
       "      <td>83.0</td>\n",
       "      <td>NaN</td>\n",
       "      <td>NaN</td>\n",
       "    </tr>\n",
       "  </tbody>\n",
       "</table>\n",
       "</div>"
      ],
      "text/plain": [
       "     Countries    17    18  19   20\n",
       "0  Afghanistan  74.8  74.1 NaN  1.1\n",
       "1      Albania  49.4  45.4 NaN  NaN\n",
       "2      Algeria  85.1  83.0 NaN  NaN"
      ]
     },
     "execution_count": 12,
     "metadata": {},
     "output_type": "execute_result"
    }
   ],
   "source": [
    "\n",
    "for i in range(1, 17):\n",
    "    df.drop([i], axis=1, inplace=True)\n",
    "df.head(3)"
   ]
  },
  {
   "cell_type": "code",
   "execution_count": 13,
   "id": "25600bc6-f0d8-4e65-9d18-33705490895e",
   "metadata": {},
   "outputs": [
    {
     "data": {
      "text/html": [
       "<div>\n",
       "<style scoped>\n",
       "    .dataframe tbody tr th:only-of-type {\n",
       "        vertical-align: middle;\n",
       "    }\n",
       "\n",
       "    .dataframe tbody tr th {\n",
       "        vertical-align: top;\n",
       "    }\n",
       "\n",
       "    .dataframe thead th {\n",
       "        text-align: right;\n",
       "    }\n",
       "</style>\n",
       "<table border=\"1\" class=\"dataframe\">\n",
       "  <thead>\n",
       "    <tr style=\"text-align: right;\">\n",
       "      <th></th>\n",
       "      <th>Countries</th>\n",
       "      <th>17</th>\n",
       "      <th>18</th>\n",
       "    </tr>\n",
       "  </thead>\n",
       "  <tbody>\n",
       "    <tr>\n",
       "      <th>0</th>\n",
       "      <td>Afghanistan</td>\n",
       "      <td>74.8</td>\n",
       "      <td>74.1</td>\n",
       "    </tr>\n",
       "    <tr>\n",
       "      <th>1</th>\n",
       "      <td>Albania</td>\n",
       "      <td>49.4</td>\n",
       "      <td>45.4</td>\n",
       "    </tr>\n",
       "    <tr>\n",
       "      <th>2</th>\n",
       "      <td>Algeria</td>\n",
       "      <td>85.1</td>\n",
       "      <td>83.0</td>\n",
       "    </tr>\n",
       "  </tbody>\n",
       "</table>\n",
       "</div>"
      ],
      "text/plain": [
       "     Countries    17    18\n",
       "0  Afghanistan  74.8  74.1\n",
       "1      Albania  49.4  45.4\n",
       "2      Algeria  85.1  83.0"
      ]
     },
     "execution_count": 13,
     "metadata": {},
     "output_type": "execute_result"
    }
   ],
   "source": [
    "for i in range(19, 21):\n",
    "    df.drop([i], axis=1, inplace=True)\n",
    "df.head(3)"
   ]
  },
  {
   "cell_type": "code",
   "execution_count": 14,
   "id": "fb48f640-0dc6-4524-9d24-4b8f78e516ac",
   "metadata": {},
   "outputs": [
    {
     "data": {
      "text/html": [
       "<div>\n",
       "<style scoped>\n",
       "    .dataframe tbody tr th:only-of-type {\n",
       "        vertical-align: middle;\n",
       "    }\n",
       "\n",
       "    .dataframe tbody tr th {\n",
       "        vertical-align: top;\n",
       "    }\n",
       "\n",
       "    .dataframe thead th {\n",
       "        text-align: right;\n",
       "    }\n",
       "</style>\n",
       "<table border=\"1\" class=\"dataframe\">\n",
       "  <thead>\n",
       "    <tr style=\"text-align: right;\">\n",
       "      <th></th>\n",
       "      <th>Countries</th>\n",
       "      <th>17</th>\n",
       "      <th>18</th>\n",
       "      <th>ViolentDiscipline</th>\n",
       "    </tr>\n",
       "  </thead>\n",
       "  <tbody>\n",
       "    <tr>\n",
       "      <th>0</th>\n",
       "      <td>Afghanistan</td>\n",
       "      <td>74.8</td>\n",
       "      <td>74.1</td>\n",
       "      <td>148.9</td>\n",
       "    </tr>\n",
       "    <tr>\n",
       "      <th>1</th>\n",
       "      <td>Albania</td>\n",
       "      <td>49.4</td>\n",
       "      <td>45.4</td>\n",
       "      <td>94.8</td>\n",
       "    </tr>\n",
       "    <tr>\n",
       "      <th>2</th>\n",
       "      <td>Algeria</td>\n",
       "      <td>85.1</td>\n",
       "      <td>83.0</td>\n",
       "      <td>168.1</td>\n",
       "    </tr>\n",
       "  </tbody>\n",
       "</table>\n",
       "</div>"
      ],
      "text/plain": [
       "     Countries    17    18  ViolentDiscipline\n",
       "0  Afghanistan  74.8  74.1              148.9\n",
       "1      Albania  49.4  45.4               94.8\n",
       "2      Algeria  85.1  83.0              168.1"
      ]
     },
     "execution_count": 14,
     "metadata": {},
     "output_type": "execute_result"
    }
   ],
   "source": [
    "df['ViolentDiscipline'] = df[17] + df[18]\n",
    "df.head(3)"
   ]
  },
  {
   "cell_type": "code",
   "execution_count": 15,
   "id": "2899efdf-37c1-49a8-8496-df4407ce9e87",
   "metadata": {},
   "outputs": [
    {
     "data": {
      "text/html": [
       "<div>\n",
       "<style scoped>\n",
       "    .dataframe tbody tr th:only-of-type {\n",
       "        vertical-align: middle;\n",
       "    }\n",
       "\n",
       "    .dataframe tbody tr th {\n",
       "        vertical-align: top;\n",
       "    }\n",
       "\n",
       "    .dataframe thead th {\n",
       "        text-align: right;\n",
       "    }\n",
       "</style>\n",
       "<table border=\"1\" class=\"dataframe\">\n",
       "  <thead>\n",
       "    <tr style=\"text-align: right;\">\n",
       "      <th></th>\n",
       "      <th>Countries</th>\n",
       "      <th>ViolentDiscipline</th>\n",
       "    </tr>\n",
       "  </thead>\n",
       "  <tbody>\n",
       "    <tr>\n",
       "      <th>0</th>\n",
       "      <td>Afghanistan</td>\n",
       "      <td>148.9</td>\n",
       "    </tr>\n",
       "    <tr>\n",
       "      <th>1</th>\n",
       "      <td>Albania</td>\n",
       "      <td>94.8</td>\n",
       "    </tr>\n",
       "    <tr>\n",
       "      <th>2</th>\n",
       "      <td>Algeria</td>\n",
       "      <td>168.1</td>\n",
       "    </tr>\n",
       "  </tbody>\n",
       "</table>\n",
       "</div>"
      ],
      "text/plain": [
       "     Countries  ViolentDiscipline\n",
       "0  Afghanistan              148.9\n",
       "1      Albania               94.8\n",
       "2      Algeria              168.1"
      ]
     },
     "execution_count": 15,
     "metadata": {},
     "output_type": "execute_result"
    }
   ],
   "source": [
    "for i in range(17, 19):\n",
    "    df.drop([i], axis=1, inplace=True)\n",
    "df.head(3)"
   ]
  },
  {
   "cell_type": "markdown",
   "id": "6a5d0549-2e95-4cdb-9afd-c998ba505ddf",
   "metadata": {},
   "source": [
    "Organizar de forma ascendente"
   ]
  },
  {
   "cell_type": "code",
   "execution_count": 16,
   "id": "ef38224c-fd59-41c3-beef-02eef5a160de",
   "metadata": {},
   "outputs": [
    {
     "data": {
      "text/html": [
       "<div>\n",
       "<style scoped>\n",
       "    .dataframe tbody tr th:only-of-type {\n",
       "        vertical-align: middle;\n",
       "    }\n",
       "\n",
       "    .dataframe tbody tr th {\n",
       "        vertical-align: top;\n",
       "    }\n",
       "\n",
       "    .dataframe thead th {\n",
       "        text-align: right;\n",
       "    }\n",
       "</style>\n",
       "<table border=\"1\" class=\"dataframe\">\n",
       "  <thead>\n",
       "    <tr style=\"text-align: right;\">\n",
       "      <th></th>\n",
       "      <th>Countries</th>\n",
       "      <th>ViolentDiscipline</th>\n",
       "    </tr>\n",
       "  </thead>\n",
       "  <tbody>\n",
       "    <tr>\n",
       "      <th>69</th>\n",
       "      <td>Ghana</td>\n",
       "      <td>187.9</td>\n",
       "    </tr>\n",
       "    <tr>\n",
       "      <th>55</th>\n",
       "      <td>Egypt</td>\n",
       "      <td>186.0</td>\n",
       "    </tr>\n",
       "    <tr>\n",
       "      <th>93</th>\n",
       "      <td>Kiribati</td>\n",
       "      <td>184.2</td>\n",
       "    </tr>\n",
       "  </tbody>\n",
       "</table>\n",
       "</div>"
      ],
      "text/plain": [
       "   Countries  ViolentDiscipline\n",
       "69     Ghana              187.9\n",
       "55     Egypt              186.0\n",
       "93  Kiribati              184.2"
      ]
     },
     "execution_count": 16,
     "metadata": {},
     "output_type": "execute_result"
    }
   ],
   "source": [
    "df = df.sort_values('ViolentDiscipline', ascending=False)\n",
    "df.head(3)"
   ]
  },
  {
   "cell_type": "code",
   "execution_count": 17,
   "id": "297d00a9-f234-4684-883b-43a6bd185d2d",
   "metadata": {},
   "outputs": [
    {
     "data": {
      "image/png": "[encoded data removed]",
      "text/plain": [
       "<Figure size 640x480 with 1 Axes>"
      ]
     },
     "metadata": {},
     "output_type": "display_data"
    }
   ],
   "source": [
    "import matplotlib.pyplot as plt\n",
    "import squarify\n",
    "import seaborn as sb\n",
    "\n",
    "# Sample data\n",
    "values = df['ViolentDiscipline'].head(10)\n",
    "labels = df['Countries'].head(10)\n",
    "colors = sb.color_palette(\"magma\", len(values))\n",
    "\n",
    "# Treemap\n",
    "squarify.plot(sizes = values, label = labels, color = colors, alpha = 0.7)\n",
    "\n",
    "# Remove the axis:\n",
    "plt.axis(\"off\")\n",
    "plt.show() "
   ]
  },
  {
   "cell_type": "code",
   "execution_count": 18,
   "id": "ecb875d0-e7e7-449e-be5d-e8aa5fcbf40d",
   "metadata": {},
   "outputs": [
    {
     "data": {
      "image/png": "[encoded data removed]",
      "text/plain": [
       "<Figure size 640x480 with 1 Axes>"
      ]
     },
     "metadata": {},
     "output_type": "display_data"
    }
   ],
   "source": [
    "import matplotlib.pyplot as plt\n",
    "import numpy as np\n",
    "\n",
    "# Data\n",
    "cantidad = 20\n",
    "x = df['Countries'].head(cantidad)\n",
    "y = df['ViolentDiscipline'].head(cantidad)\n",
    "\n",
    "# Stem plot\n",
    "fig, ax = plt.subplots()\n",
    "ax.stem(x, y, orientation = \"horizontal\")\n",
    "plt.xlabel(\"ViolentDiscipline\")\n",
    "plt.show() \n"
   ]
  },
  {
   "cell_type": "markdown",
   "id": "602613db-b6ce-4f1f-b2fd-251971d54d69",
   "metadata": {},
   "source": [
    "### Violencia sexual"
   ]
  },
  {
   "cell_type": "code",
   "execution_count": 19,
   "id": "15b864c3-69f9-41c3-bdba-6615e92406f2",
   "metadata": {},
   "outputs": [
    {
     "data": {
      "text/html": [
       "<div>\n",
       "<style scoped>\n",
       "    .dataframe tbody tr th:only-of-type {\n",
       "        vertical-align: middle;\n",
       "    }\n",
       "\n",
       "    .dataframe tbody tr th {\n",
       "        vertical-align: top;\n",
       "    }\n",
       "\n",
       "    .dataframe thead th {\n",
       "        text-align: right;\n",
       "    }\n",
       "</style>\n",
       "<table border=\"1\" class=\"dataframe\">\n",
       "  <thead>\n",
       "    <tr style=\"text-align: right;\">\n",
       "      <th></th>\n",
       "      <th>Countries</th>\n",
       "      <th>1</th>\n",
       "      <th>2</th>\n",
       "      <th>3</th>\n",
       "      <th>4</th>\n",
       "      <th>5</th>\n",
       "      <th>6</th>\n",
       "      <th>7</th>\n",
       "      <th>8</th>\n",
       "      <th>9</th>\n",
       "      <th>...</th>\n",
       "      <th>11</th>\n",
       "      <th>12</th>\n",
       "      <th>13</th>\n",
       "      <th>14</th>\n",
       "      <th>15</th>\n",
       "      <th>16</th>\n",
       "      <th>17</th>\n",
       "      <th>18</th>\n",
       "      <th>19</th>\n",
       "      <th>20</th>\n",
       "    </tr>\n",
       "  </thead>\n",
       "  <tbody>\n",
       "    <tr>\n",
       "      <th>0</th>\n",
       "      <td>Afghanistan</td>\n",
       "      <td>21.39</td>\n",
       "      <td>22.78000</td>\n",
       "      <td>19.85000</td>\n",
       "      <td>4.201457</td>\n",
       "      <td>28.25738</td>\n",
       "      <td>7.3</td>\n",
       "      <td>42.3</td>\n",
       "      <td>42.7</td>\n",
       "      <td>41.9</td>\n",
       "      <td>...</td>\n",
       "      <td>NaN</td>\n",
       "      <td>NaN</td>\n",
       "      <td>NaN</td>\n",
       "      <td>70.6</td>\n",
       "      <td>78.3</td>\n",
       "      <td>74.4</td>\n",
       "      <td>74.8</td>\n",
       "      <td>74.1</td>\n",
       "      <td>NaN</td>\n",
       "      <td>1.1</td>\n",
       "    </tr>\n",
       "    <tr>\n",
       "      <th>1</th>\n",
       "      <td>Albania</td>\n",
       "      <td>3.30</td>\n",
       "      <td>3.60000</td>\n",
       "      <td>3.00000</td>\n",
       "      <td>1.387240</td>\n",
       "      <td>11.76054</td>\n",
       "      <td>1.2</td>\n",
       "      <td>98.4</td>\n",
       "      <td>98.9</td>\n",
       "      <td>98.0</td>\n",
       "      <td>...</td>\n",
       "      <td>NaN</td>\n",
       "      <td>NaN</td>\n",
       "      <td>NaN</td>\n",
       "      <td>10.9</td>\n",
       "      <td>4.7</td>\n",
       "      <td>47.5</td>\n",
       "      <td>49.4</td>\n",
       "      <td>45.4</td>\n",
       "      <td>NaN</td>\n",
       "      <td>NaN</td>\n",
       "    </tr>\n",
       "    <tr>\n",
       "      <th>2</th>\n",
       "      <td>Algeria</td>\n",
       "      <td>4.26</td>\n",
       "      <td>4.77566</td>\n",
       "      <td>3.71798</td>\n",
       "      <td>0.000000</td>\n",
       "      <td>3.80000</td>\n",
       "      <td>NaN</td>\n",
       "      <td>99.6</td>\n",
       "      <td>99.7</td>\n",
       "      <td>99.6</td>\n",
       "      <td>...</td>\n",
       "      <td>NaN</td>\n",
       "      <td>NaN</td>\n",
       "      <td>NaN</td>\n",
       "      <td>NaN</td>\n",
       "      <td>25.4</td>\n",
       "      <td>84.1</td>\n",
       "      <td>85.1</td>\n",
       "      <td>83.0</td>\n",
       "      <td>NaN</td>\n",
       "      <td>NaN</td>\n",
       "    </tr>\n",
       "  </tbody>\n",
       "</table>\n",
       "<p>3 rows × 21 columns</p>\n",
       "</div>"
      ],
      "text/plain": [
       "     Countries      1         2         3         4         5    6     7  \\\n",
       "0  Afghanistan  21.39  22.78000  19.85000  4.201457  28.25738  7.3  42.3   \n",
       "1      Albania   3.30   3.60000   3.00000  1.387240  11.76054  1.2  98.4   \n",
       "2      Algeria   4.26   4.77566   3.71798  0.000000   3.80000  NaN  99.6   \n",
       "\n",
       "      8     9  ...  11  12  13    14    15    16    17    18  19   20  \n",
       "0  42.7  41.9  ... NaN NaN NaN  70.6  78.3  74.4  74.8  74.1 NaN  1.1  \n",
       "1  98.9  98.0  ... NaN NaN NaN  10.9   4.7  47.5  49.4  45.4 NaN  NaN  \n",
       "2  99.7  99.6  ... NaN NaN NaN   NaN  25.4  84.1  85.1  83.0 NaN  NaN  \n",
       "\n",
       "[3 rows x 21 columns]"
      ]
     },
     "execution_count": 19,
     "metadata": {},
     "output_type": "execute_result"
    }
   ],
   "source": [
    "df = df_Child.copy()\n",
    "df.head(3)"
   ]
  },
  {
   "cell_type": "code",
   "execution_count": 20,
   "id": "e193e65b-2180-4445-add1-a42a99fa4d77",
   "metadata": {},
   "outputs": [
    {
     "data": {
      "text/html": [
       "<div>\n",
       "<style scoped>\n",
       "    .dataframe tbody tr th:only-of-type {\n",
       "        vertical-align: middle;\n",
       "    }\n",
       "\n",
       "    .dataframe tbody tr th {\n",
       "        vertical-align: top;\n",
       "    }\n",
       "\n",
       "    .dataframe thead th {\n",
       "        text-align: right;\n",
       "    }\n",
       "</style>\n",
       "<table border=\"1\" class=\"dataframe\">\n",
       "  <thead>\n",
       "    <tr style=\"text-align: right;\">\n",
       "      <th></th>\n",
       "      <th>Countries</th>\n",
       "      <th>19</th>\n",
       "      <th>20</th>\n",
       "    </tr>\n",
       "  </thead>\n",
       "  <tbody>\n",
       "    <tr>\n",
       "      <th>0</th>\n",
       "      <td>Afghanistan</td>\n",
       "      <td>NaN</td>\n",
       "      <td>1.1</td>\n",
       "    </tr>\n",
       "    <tr>\n",
       "      <th>1</th>\n",
       "      <td>Albania</td>\n",
       "      <td>NaN</td>\n",
       "      <td>NaN</td>\n",
       "    </tr>\n",
       "    <tr>\n",
       "      <th>2</th>\n",
       "      <td>Algeria</td>\n",
       "      <td>NaN</td>\n",
       "      <td>NaN</td>\n",
       "    </tr>\n",
       "  </tbody>\n",
       "</table>\n",
       "</div>"
      ],
      "text/plain": [
       "     Countries  19   20\n",
       "0  Afghanistan NaN  1.1\n",
       "1      Albania NaN  NaN\n",
       "2      Algeria NaN  NaN"
      ]
     },
     "execution_count": 20,
     "metadata": {},
     "output_type": "execute_result"
    }
   ],
   "source": [
    "for i in range(1, 19):\n",
    "    df.drop([i], axis=1, inplace=True)\n",
    "df.head(3)"
   ]
  },
  {
   "cell_type": "code",
   "execution_count": 22,
   "id": "2012f4cd-3ac5-4a76-b1b0-6ddee551de41",
   "metadata": {},
   "outputs": [],
   "source": [
    "df[19] = df[19].fillna(0)"
   ]
  },
  {
   "cell_type": "code",
   "execution_count": 23,
   "id": "0410b743-31c0-477b-afeb-61e6f9805847",
   "metadata": {},
   "outputs": [
    {
     "data": {
      "text/html": [
       "<div>\n",
       "<style scoped>\n",
       "    .dataframe tbody tr th:only-of-type {\n",
       "        vertical-align: middle;\n",
       "    }\n",
       "\n",
       "    .dataframe tbody tr th {\n",
       "        vertical-align: top;\n",
       "    }\n",
       "\n",
       "    .dataframe thead th {\n",
       "        text-align: right;\n",
       "    }\n",
       "</style>\n",
       "<table border=\"1\" class=\"dataframe\">\n",
       "  <thead>\n",
       "    <tr style=\"text-align: right;\">\n",
       "      <th></th>\n",
       "      <th>Countries</th>\n",
       "      <th>19</th>\n",
       "      <th>20</th>\n",
       "    </tr>\n",
       "  </thead>\n",
       "  <tbody>\n",
       "    <tr>\n",
       "      <th>0</th>\n",
       "      <td>Afghanistan</td>\n",
       "      <td>0.0</td>\n",
       "      <td>1.1</td>\n",
       "    </tr>\n",
       "    <tr>\n",
       "      <th>1</th>\n",
       "      <td>Albania</td>\n",
       "      <td>0.0</td>\n",
       "      <td>NaN</td>\n",
       "    </tr>\n",
       "    <tr>\n",
       "      <th>2</th>\n",
       "      <td>Algeria</td>\n",
       "      <td>0.0</td>\n",
       "      <td>NaN</td>\n",
       "    </tr>\n",
       "  </tbody>\n",
       "</table>\n",
       "</div>"
      ],
      "text/plain": [
       "     Countries   19   20\n",
       "0  Afghanistan  0.0  1.1\n",
       "1      Albania  0.0  NaN\n",
       "2      Algeria  0.0  NaN"
      ]
     },
     "execution_count": 23,
     "metadata": {},
     "output_type": "execute_result"
    }
   ],
   "source": [
    "df.head(3)"
   ]
  },
  {
   "cell_type": "code",
   "execution_count": 24,
   "id": "a630a9fe-a2e7-419c-923f-4d0fa3e6ac33",
   "metadata": {},
   "outputs": [
    {
     "data": {
      "text/html": [
       "<div>\n",
       "<style scoped>\n",
       "    .dataframe tbody tr th:only-of-type {\n",
       "        vertical-align: middle;\n",
       "    }\n",
       "\n",
       "    .dataframe tbody tr th {\n",
       "        vertical-align: top;\n",
       "    }\n",
       "\n",
       "    .dataframe thead th {\n",
       "        text-align: right;\n",
       "    }\n",
       "</style>\n",
       "<table border=\"1\" class=\"dataframe\">\n",
       "  <thead>\n",
       "    <tr style=\"text-align: right;\">\n",
       "      <th></th>\n",
       "      <th>Countries</th>\n",
       "      <th>19</th>\n",
       "      <th>20</th>\n",
       "    </tr>\n",
       "  </thead>\n",
       "  <tbody>\n",
       "    <tr>\n",
       "      <th>0</th>\n",
       "      <td>Afghanistan</td>\n",
       "      <td>0.0</td>\n",
       "      <td>1.1</td>\n",
       "    </tr>\n",
       "    <tr>\n",
       "      <th>1</th>\n",
       "      <td>Albania</td>\n",
       "      <td>0.0</td>\n",
       "      <td>0.0</td>\n",
       "    </tr>\n",
       "    <tr>\n",
       "      <th>2</th>\n",
       "      <td>Algeria</td>\n",
       "      <td>0.0</td>\n",
       "      <td>0.0</td>\n",
       "    </tr>\n",
       "  </tbody>\n",
       "</table>\n",
       "</div>"
      ],
      "text/plain": [
       "     Countries   19   20\n",
       "0  Afghanistan  0.0  1.1\n",
       "1      Albania  0.0  0.0\n",
       "2      Algeria  0.0  0.0"
      ]
     },
     "execution_count": 24,
     "metadata": {},
     "output_type": "execute_result"
    }
   ],
   "source": [
    "df[20] = df[20].fillna(0)\n",
    "df.head(3)"
   ]
  },
  {
   "cell_type": "code",
   "execution_count": 25,
   "id": "f8eb0ea0-b57b-487a-928f-ea619f0cb649",
   "metadata": {},
   "outputs": [
    {
     "data": {
      "text/html": [
       "<div>\n",
       "<style scoped>\n",
       "    .dataframe tbody tr th:only-of-type {\n",
       "        vertical-align: middle;\n",
       "    }\n",
       "\n",
       "    .dataframe tbody tr th {\n",
       "        vertical-align: top;\n",
       "    }\n",
       "\n",
       "    .dataframe thead th {\n",
       "        text-align: right;\n",
       "    }\n",
       "</style>\n",
       "<table border=\"1\" class=\"dataframe\">\n",
       "  <thead>\n",
       "    <tr style=\"text-align: right;\">\n",
       "      <th></th>\n",
       "      <th>Countries</th>\n",
       "      <th>19</th>\n",
       "      <th>20</th>\n",
       "      <th>SexualViolence</th>\n",
       "    </tr>\n",
       "  </thead>\n",
       "  <tbody>\n",
       "    <tr>\n",
       "      <th>0</th>\n",
       "      <td>Afghanistan</td>\n",
       "      <td>0.0</td>\n",
       "      <td>1.1</td>\n",
       "      <td>1.1</td>\n",
       "    </tr>\n",
       "    <tr>\n",
       "      <th>1</th>\n",
       "      <td>Albania</td>\n",
       "      <td>0.0</td>\n",
       "      <td>0.0</td>\n",
       "      <td>0.0</td>\n",
       "    </tr>\n",
       "    <tr>\n",
       "      <th>2</th>\n",
       "      <td>Algeria</td>\n",
       "      <td>0.0</td>\n",
       "      <td>0.0</td>\n",
       "      <td>0.0</td>\n",
       "    </tr>\n",
       "  </tbody>\n",
       "</table>\n",
       "</div>"
      ],
      "text/plain": [
       "     Countries   19   20  SexualViolence\n",
       "0  Afghanistan  0.0  1.1             1.1\n",
       "1      Albania  0.0  0.0             0.0\n",
       "2      Algeria  0.0  0.0             0.0"
      ]
     },
     "execution_count": 25,
     "metadata": {},
     "output_type": "execute_result"
    }
   ],
   "source": [
    "df['SexualViolence'] = df[19] + df[20]\n",
    "df.head(3)"
   ]
  },
  {
   "cell_type": "code",
   "execution_count": 26,
   "id": "2d5b9a45-538d-46f6-9e9f-62260899dcb9",
   "metadata": {},
   "outputs": [
    {
     "data": {
      "text/html": [
       "<div>\n",
       "<style scoped>\n",
       "    .dataframe tbody tr th:only-of-type {\n",
       "        vertical-align: middle;\n",
       "    }\n",
       "\n",
       "    .dataframe tbody tr th {\n",
       "        vertical-align: top;\n",
       "    }\n",
       "\n",
       "    .dataframe thead th {\n",
       "        text-align: right;\n",
       "    }\n",
       "</style>\n",
       "<table border=\"1\" class=\"dataframe\">\n",
       "  <thead>\n",
       "    <tr style=\"text-align: right;\">\n",
       "      <th></th>\n",
       "      <th>Countries</th>\n",
       "      <th>SexualViolence</th>\n",
       "    </tr>\n",
       "  </thead>\n",
       "  <tbody>\n",
       "    <tr>\n",
       "      <th>0</th>\n",
       "      <td>Afghanistan</td>\n",
       "      <td>1.1</td>\n",
       "    </tr>\n",
       "    <tr>\n",
       "      <th>1</th>\n",
       "      <td>Albania</td>\n",
       "      <td>0.0</td>\n",
       "    </tr>\n",
       "    <tr>\n",
       "      <th>2</th>\n",
       "      <td>Algeria</td>\n",
       "      <td>0.0</td>\n",
       "    </tr>\n",
       "  </tbody>\n",
       "</table>\n",
       "</div>"
      ],
      "text/plain": [
       "     Countries  SexualViolence\n",
       "0  Afghanistan             1.1\n",
       "1      Albania             0.0\n",
       "2      Algeria             0.0"
      ]
     },
     "execution_count": 26,
     "metadata": {},
     "output_type": "execute_result"
    }
   ],
   "source": [
    "for i in range(19, 21):\n",
    "    df.drop([i], axis=1, inplace=True)\n",
    "df.head(3)"
   ]
  },
  {
   "cell_type": "code",
   "execution_count": 27,
   "id": "a56e3d32-3779-434c-8b41-30ad845720b5",
   "metadata": {},
   "outputs": [
    {
     "data": {
      "text/html": [
       "<div>\n",
       "<style scoped>\n",
       "    .dataframe tbody tr th:only-of-type {\n",
       "        vertical-align: middle;\n",
       "    }\n",
       "\n",
       "    .dataframe tbody tr th {\n",
       "        vertical-align: top;\n",
       "    }\n",
       "\n",
       "    .dataframe thead th {\n",
       "        text-align: right;\n",
       "    }\n",
       "</style>\n",
       "<table border=\"1\" class=\"dataframe\">\n",
       "  <thead>\n",
       "    <tr style=\"text-align: right;\">\n",
       "      <th></th>\n",
       "      <th>Countries</th>\n",
       "      <th>SexualViolence</th>\n",
       "    </tr>\n",
       "  </thead>\n",
       "  <tbody>\n",
       "    <tr>\n",
       "      <th>182</th>\n",
       "      <td>Trinidad and Tobago</td>\n",
       "      <td>24.8</td>\n",
       "    </tr>\n",
       "    <tr>\n",
       "      <th>173</th>\n",
       "      <td>Sweden</td>\n",
       "      <td>17.0</td>\n",
       "    </tr>\n",
       "    <tr>\n",
       "      <th>71</th>\n",
       "      <td>Grenada</td>\n",
       "      <td>13.7</td>\n",
       "    </tr>\n",
       "  </tbody>\n",
       "</table>\n",
       "</div>"
      ],
      "text/plain": [
       "               Countries  SexualViolence\n",
       "182  Trinidad and Tobago            24.8\n",
       "173               Sweden            17.0\n",
       "71               Grenada            13.7"
      ]
     },
     "execution_count": 27,
     "metadata": {},
     "output_type": "execute_result"
    }
   ],
   "source": [
    "df = df.sort_values('SexualViolence', ascending=False)\n",
    "df.head(3)"
   ]
  },
  {
   "cell_type": "code",
   "execution_count": 28,
   "id": "8557ec56-5f9c-450f-9d24-f506722f601d",
   "metadata": {},
   "outputs": [
    {
     "data": {
      "image/png": "[encoded data removed]",
      "text/plain": [
       "<Figure size 640x480 with 1 Axes>"
      ]
     },
     "metadata": {},
     "output_type": "display_data"
    }
   ],
   "source": [
    "import matplotlib.pyplot as plt\n",
    "import squarify\n",
    "import seaborn as sb\n",
    "\n",
    "# Sample data\n",
    "values = df['SexualViolence'].head(10)\n",
    "labels = df['Countries'].head(10)\n",
    "colors = sb.color_palette(\"magma\", len(values))\n",
    "\n",
    "# Treemap\n",
    "squarify.plot(sizes = values, label = labels, color = colors, alpha = 0.7)\n",
    "\n",
    "# Remove the axis:\n",
    "plt.axis(\"off\")\n",
    "plt.show() "
   ]
  },
  {
   "cell_type": "code",
   "execution_count": 29,
   "id": "a0f8b022-ee10-4094-8ed1-15d30b5f84a1",
   "metadata": {},
   "outputs": [
    {
     "data": {
      "image/png": "[encoded data removed]",
      "text/plain": [
       "<Figure size 640x480 with 1 Axes>"
      ]
     },
     "metadata": {},
     "output_type": "display_data"
    }
   ],
   "source": [
    "import matplotlib.pyplot as plt\n",
    "import numpy as np\n",
    "\n",
    "# Data\n",
    "cantidad = 20\n",
    "x = df['Countries'].head(cantidad)\n",
    "y = df['SexualViolence'].head(cantidad)\n",
    "\n",
    "# Stem plot\n",
    "fig, ax = plt.subplots()\n",
    "ax.stem(x, y, orientation = \"horizontal\")\n",
    "plt.xlabel(\"StudentDropOut\")\n",
    "plt.show() \n"
   ]
  },
  {
   "cell_type": "code",
   "execution_count": null,
   "id": "0f79b136-21d4-4b9d-abed-2386ce77f883",
   "metadata": {},
   "outputs": [],
   "source": []
  }
 ],
 "metadata": {
  "kernelspec": {
   "display_name": "Python 3 (ipykernel)",
   "language": "python",
   "name": "python3"
  },
  "language_info": {
   "codemirror_mode": {
    "name": "ipython",
    "version": 3
   },
   "file_extension": ".py",
   "mimetype": "text/x-python",
   "name": "python",
   "nbconvert_exporter": "python",
   "pygments_lexer": "ipython3",
   "version": "3.10.8"
  }
 },
 "nbformat": 4,
 "nbformat_minor": 5
}
