{
 "cells": [
  {
   "cell_type": "markdown",
   "id": "e37c27d6",
   "metadata": {},
   "source": [
    "# SentimentAnalysis\n",
    "## Naive Bayes\n",
    "### [ Opiniones VS Atracciones ]\n",
    "#### Ing. Luis Felipe Narvaez Gomez. E-mail: luis.narvaez@usantoto.edu.co. Cod: 2312660. Facultad de Ingenieria de Sistemas. USTA.\n",
    "\n",
    "### Importar Librerias"
   ]
  },
  {
   "cell_type": "code",
   "execution_count": 1,
   "id": "67e4c682",
   "metadata": {},
   "outputs": [],
   "source": [
    "# Librerias DataFrame\n",
    "import numpy as np\n",
    "import pandas as pd\n",
    "import re"
   ]
  },
  {
   "cell_type": "code",
   "execution_count": 2,
   "id": "662bb50b",
   "metadata": {},
   "outputs": [],
   "source": [
    "# Librerias Graficos e imagenes\n",
    "import matplotlib.pyplot as plt\n",
    "%matplotlib inline\n",
    "import seaborn as sns\n",
    "from IPython.display import Image"
   ]
  },
  {
   "cell_type": "code",
   "execution_count": 3,
   "id": "0c3fc776",
   "metadata": {},
   "outputs": [
    {
     "name": "stderr",
     "output_type": "stream",
     "text": [
      "[nltk_data] Downloading package stopwords to C:\\Users\\Ruiso Local\n",
      "[nltk_data]     Pc\\AppData\\Roaming\\nltk_data...\n",
      "[nltk_data]   Package stopwords is already up-to-date!\n"
     ]
    }
   ],
   "source": [
    "# Importar STOPWORDS\n",
    "import nltk\n",
    "nltk.download(\"stopwords\")\n",
    "from nltk.corpus import stopwords\n",
    "\n",
    "# Vectorizar\n",
    "from sklearn.feature_extraction.text import TfidfVectorizer\n",
    "from sklearn.model_selection import train_test_split"
   ]
  },
  {
   "cell_type": "code",
   "execution_count": 4,
   "id": "490e8a86",
   "metadata": {},
   "outputs": [],
   "source": [
    "# Datos de Clasificacion\n",
    "from sklearn.metrics import classification_report\n",
    "from sklearn.metrics import confusion_matrix\n",
    "from sklearn.metrics import accuracy_score"
   ]
  },
  {
   "cell_type": "code",
   "execution_count": 5,
   "id": "0f239d5a",
   "metadata": {},
   "outputs": [],
   "source": [
    "# Exportar data\n",
    "import pickle"
   ]
  },
  {
   "cell_type": "markdown",
   "id": "a1a41b8f",
   "metadata": {},
   "source": [
    "### Leer un archivo XLSX"
   ]
  },
  {
   "cell_type": "code",
   "execution_count": 6,
   "id": "47d44e5e",
   "metadata": {},
   "outputs": [],
   "source": [
    "# Leer el archivo de tipo XLSX\n",
    "dfData = pd.read_excel(\"Rest_Mex_2022_Sentiment_Analysis_Track_Train.xlsx\")"
   ]
  },
  {
   "cell_type": "markdown",
   "id": "ca5b6ac6",
   "metadata": {},
   "source": [
    "Transformemos el DataFrame para que Attraction sean numeros y no letras"
   ]
  },
  {
   "cell_type": "code",
   "execution_count": 7,
   "id": "7ae70ff7",
   "metadata": {},
   "outputs": [
    {
     "data": {
      "text/plain": [
       "Attraction\n",
       "Attractive     5197\n",
       "Hotel         16565\n",
       "Restaurant     8450\n",
       "dtype: int64"
      ]
     },
     "execution_count": 7,
     "metadata": {},
     "output_type": "execute_result"
    }
   ],
   "source": [
    "dfData.groupby('Attraction').size()"
   ]
  },
  {
   "cell_type": "code",
   "execution_count": 8,
   "id": "7dbb544a",
   "metadata": {},
   "outputs": [],
   "source": [
    "df_new = dfData.copy()"
   ]
  },
  {
   "cell_type": "code",
   "execution_count": 9,
   "id": "7568ee7a",
   "metadata": {},
   "outputs": [],
   "source": [
    "df_new['Attraction_new'] = df_new['Attraction'].replace('Attractive',1).replace('Hotel',2).replace('Restaurant',3)"
   ]
  },
  {
   "cell_type": "code",
   "execution_count": 10,
   "id": "b6044308",
   "metadata": {},
   "outputs": [
    {
     "data": {
      "text/plain": [
       "Index(['Title', 'Opinion', 'Polarity', 'Attraction', 'Attraction_new'], dtype='object')"
      ]
     },
     "execution_count": 10,
     "metadata": {},
     "output_type": "execute_result"
    }
   ],
   "source": [
    "df_new.keys()"
   ]
  },
  {
   "cell_type": "code",
   "execution_count": 11,
   "id": "85e3da79",
   "metadata": {},
   "outputs": [
    {
     "data": {
      "text/html": [
       "<div>\n",
       "<style scoped>\n",
       "    .dataframe tbody tr th:only-of-type {\n",
       "        vertical-align: middle;\n",
       "    }\n",
       "\n",
       "    .dataframe tbody tr th {\n",
       "        vertical-align: top;\n",
       "    }\n",
       "\n",
       "    .dataframe thead th {\n",
       "        text-align: right;\n",
       "    }\n",
       "</style>\n",
       "<table border=\"1\" class=\"dataframe\">\n",
       "  <thead>\n",
       "    <tr style=\"text-align: right;\">\n",
       "      <th></th>\n",
       "      <th>Title</th>\n",
       "      <th>Opinion</th>\n",
       "      <th>Polarity</th>\n",
       "      <th>Attraction</th>\n",
       "      <th>Attraction_new</th>\n",
       "    </tr>\n",
       "  </thead>\n",
       "  <tbody>\n",
       "    <tr>\n",
       "      <th>0</th>\n",
       "      <td>Pésimo lugar</td>\n",
       "      <td>Piensen dos veces antes de ir a este hotel te ...</td>\n",
       "      <td>1</td>\n",
       "      <td>Hotel</td>\n",
       "      <td>2</td>\n",
       "    </tr>\n",
       "    <tr>\n",
       "      <th>1</th>\n",
       "      <td>No vayas a lugar de Eddie</td>\n",
       "      <td>Cuatro de nosotros fuimos recientemente a Eddi...</td>\n",
       "      <td>1</td>\n",
       "      <td>Restaurant</td>\n",
       "      <td>3</td>\n",
       "    </tr>\n",
       "    <tr>\n",
       "      <th>2</th>\n",
       "      <td>Mala relación calidad-precio</td>\n",
       "      <td>seguiré corta y simple: limpieza\\n- bad. Tengo...</td>\n",
       "      <td>1</td>\n",
       "      <td>Hotel</td>\n",
       "      <td>2</td>\n",
       "    </tr>\n",
       "    <tr>\n",
       "      <th>3</th>\n",
       "      <td>Minusválido? ¡No te alojes aquí!</td>\n",
       "      <td>Al reservar un hotel con multipropiedad Mayan ...</td>\n",
       "      <td>1</td>\n",
       "      <td>Hotel</td>\n",
       "      <td>2</td>\n",
       "    </tr>\n",
       "    <tr>\n",
       "      <th>4</th>\n",
       "      <td>Es una porqueria no pierdan su tiempo</td>\n",
       "      <td>No pierdan su tiempo ni dinero venimos porque ...</td>\n",
       "      <td>1</td>\n",
       "      <td>Hotel</td>\n",
       "      <td>2</td>\n",
       "    </tr>\n",
       "  </tbody>\n",
       "</table>\n",
       "</div>"
      ],
      "text/plain": [
       "                                   Title  \\\n",
       "0                           Pésimo lugar   \n",
       "1              No vayas a lugar de Eddie   \n",
       "2           Mala relación calidad-precio   \n",
       "3       Minusválido? ¡No te alojes aquí!   \n",
       "4  Es una porqueria no pierdan su tiempo   \n",
       "\n",
       "                                             Opinion  Polarity  Attraction  \\\n",
       "0  Piensen dos veces antes de ir a este hotel te ...         1       Hotel   \n",
       "1  Cuatro de nosotros fuimos recientemente a Eddi...         1  Restaurant   \n",
       "2  seguiré corta y simple: limpieza\\n- bad. Tengo...         1       Hotel   \n",
       "3  Al reservar un hotel con multipropiedad Mayan ...         1       Hotel   \n",
       "4  No pierdan su tiempo ni dinero venimos porque ...         1       Hotel   \n",
       "\n",
       "   Attraction_new  \n",
       "0               2  \n",
       "1               3  \n",
       "2               2  \n",
       "3               2  \n",
       "4               2  "
      ]
     },
     "execution_count": 11,
     "metadata": {},
     "output_type": "execute_result"
    }
   ],
   "source": [
    "df_new.head(5)"
   ]
  },
  {
   "cell_type": "code",
   "execution_count": 12,
   "id": "5bc39ce5",
   "metadata": {},
   "outputs": [],
   "source": [
    "df_new.drop(['Attraction'], axis=1, inplace=True)"
   ]
  },
  {
   "cell_type": "code",
   "execution_count": 13,
   "id": "6767c392",
   "metadata": {},
   "outputs": [
    {
     "data": {
      "text/html": [
       "<div>\n",
       "<style scoped>\n",
       "    .dataframe tbody tr th:only-of-type {\n",
       "        vertical-align: middle;\n",
       "    }\n",
       "\n",
       "    .dataframe tbody tr th {\n",
       "        vertical-align: top;\n",
       "    }\n",
       "\n",
       "    .dataframe thead th {\n",
       "        text-align: right;\n",
       "    }\n",
       "</style>\n",
       "<table border=\"1\" class=\"dataframe\">\n",
       "  <thead>\n",
       "    <tr style=\"text-align: right;\">\n",
       "      <th></th>\n",
       "      <th>Title</th>\n",
       "      <th>Opinion</th>\n",
       "      <th>Polarity</th>\n",
       "      <th>Attraction_new</th>\n",
       "    </tr>\n",
       "  </thead>\n",
       "  <tbody>\n",
       "    <tr>\n",
       "      <th>0</th>\n",
       "      <td>Pésimo lugar</td>\n",
       "      <td>Piensen dos veces antes de ir a este hotel te ...</td>\n",
       "      <td>1</td>\n",
       "      <td>2</td>\n",
       "    </tr>\n",
       "    <tr>\n",
       "      <th>1</th>\n",
       "      <td>No vayas a lugar de Eddie</td>\n",
       "      <td>Cuatro de nosotros fuimos recientemente a Eddi...</td>\n",
       "      <td>1</td>\n",
       "      <td>3</td>\n",
       "    </tr>\n",
       "    <tr>\n",
       "      <th>2</th>\n",
       "      <td>Mala relación calidad-precio</td>\n",
       "      <td>seguiré corta y simple: limpieza\\n- bad. Tengo...</td>\n",
       "      <td>1</td>\n",
       "      <td>2</td>\n",
       "    </tr>\n",
       "  </tbody>\n",
       "</table>\n",
       "</div>"
      ],
      "text/plain": [
       "                          Title  \\\n",
       "0                  Pésimo lugar   \n",
       "1     No vayas a lugar de Eddie   \n",
       "2  Mala relación calidad-precio   \n",
       "\n",
       "                                             Opinion  Polarity  Attraction_new  \n",
       "0  Piensen dos veces antes de ir a este hotel te ...         1               2  \n",
       "1  Cuatro de nosotros fuimos recientemente a Eddi...         1               3  \n",
       "2  seguiré corta y simple: limpieza\\n- bad. Tengo...         1               2  "
      ]
     },
     "execution_count": 13,
     "metadata": {},
     "output_type": "execute_result"
    }
   ],
   "source": [
    "df_new.head(3)"
   ]
  },
  {
   "cell_type": "markdown",
   "id": "30fdc0a6",
   "metadata": {},
   "source": [
    "Ahora tenemos un nuevo dataframe con las siguientes variables:\n",
    "\n",
    "1. 'Attractive' ===> 1\n",
    "2. 'Hotel'===> 2\n",
    "3. 'Restaurant' ===> 3"
   ]
  },
  {
   "cell_type": "markdown",
   "id": "6e8a462b",
   "metadata": {},
   "source": [
    "### Conociendo la Data"
   ]
  },
  {
   "cell_type": "code",
   "execution_count": 14,
   "id": "050c81c9",
   "metadata": {},
   "outputs": [
    {
     "data": {
      "text/plain": [
       "<AxesSubplot:xlabel='Attraction_new'>"
      ]
     },
     "execution_count": 14,
     "metadata": {},
     "output_type": "execute_result"
    },
    {
     "data": {
      "image/png": "[encoded data removed]",
      "text/plain": [
       "<Figure size 640x480 with 1 Axes>"
      ]
     },
     "metadata": {},
     "output_type": "display_data"
    }
   ],
   "source": [
    "sentiment = df_new.groupby(['Attraction_new',\n",
    "                            'Polarity']).Polarity.count().unstack()\n",
    "sentiment.plot(kind=\"bar\")"
   ]
  },
  {
   "cell_type": "markdown",
   "id": "1ca0f67a",
   "metadata": {},
   "source": [
    "### Features y Labels"
   ]
  },
  {
   "cell_type": "code",
   "execution_count": 15,
   "id": "08ce44f4",
   "metadata": {},
   "outputs": [
    {
     "data": {
      "text/plain": [
       "Index(['Title', 'Opinion', 'Polarity', 'Attraction_new'], dtype='object')"
      ]
     },
     "execution_count": 15,
     "metadata": {},
     "output_type": "execute_result"
    }
   ],
   "source": [
    "df_new.keys()"
   ]
  },
  {
   "cell_type": "code",
   "execution_count": 16,
   "id": "79a87f30",
   "metadata": {},
   "outputs": [],
   "source": [
    "# [0]       [1]         [2]        [3]\n",
    "# ['Title', 'Opinion', 'Polarity', 'Attraction_new']\n",
    "\n",
    "features = df_new.iloc[:,1].values  # Opinion\n",
    "labels = df_new.iloc[:,3].values    # Attraction_new"
   ]
  },
  {
   "cell_type": "markdown",
   "id": "d20f142f",
   "metadata": {},
   "source": [
    "### Limpiar Dataset"
   ]
  },
  {
   "cell_type": "code",
   "execution_count": 17,
   "id": "9de81329",
   "metadata": {},
   "outputs": [],
   "source": [
    "# Limpiar el dataset de todos los caracteres especiales.\n",
    "processed_features = []\n",
    "\n",
    "for sentence in range(0, len(features)):\n",
    "    #Remove all the special characters\n",
    "    processed_feature = re.sub(r'\\W',' ', str(features[sentence]))\n",
    "    #remove all single characters\n",
    "    processed_feature = re.sub(r'\\s+[a-zA-Z]\\s+', ' ', processed_feature)\n",
    "    #remove single characters from the start\n",
    "    processed_feature = re.sub(r'\\^[a-zA-Z]\\s+', ' ', processed_feature)\n",
    "    #substituting multiple spaces with single space\n",
    "    processed_feature = re.sub(r'\\s+', ' ', processed_feature, flags=re.I)\n",
    "    #removing prefixxed 'b'\n",
    "    processed_feature = re.sub(r'^b\\s+', '', processed_feature)\n",
    "    #converting to lowercase\n",
    "    processed_feature = processed_feature.lower()\n",
    "    #añadirlo al arreglo alv\n",
    "    processed_features.append(processed_feature)"
   ]
  },
  {
   "cell_type": "code",
   "execution_count": 18,
   "id": "b57bf626",
   "metadata": {},
   "outputs": [],
   "source": [
    "# En el anterior paso tenemos nuestra nueva \n",
    "# columna de features (Opiniones)"
   ]
  },
  {
   "cell_type": "code",
   "execution_count": 19,
   "id": "e96a71fe",
   "metadata": {},
   "outputs": [],
   "source": [
    "vectorizer = TfidfVectorizer (max_features=2500, \n",
    "                              min_df = 7, \n",
    "                              max_df=0.8, \n",
    "                              stop_words=stopwords.words('spanish'))"
   ]
  },
  {
   "cell_type": "code",
   "execution_count": 20,
   "id": "ff40c967",
   "metadata": {},
   "outputs": [],
   "source": [
    "processed_features = vectorizer.fit_transform(processed_features).toarray()"
   ]
  },
  {
   "cell_type": "code",
   "execution_count": 21,
   "id": "92372067",
   "metadata": {},
   "outputs": [],
   "source": [
    "X = processed_features"
   ]
  },
  {
   "cell_type": "code",
   "execution_count": 22,
   "id": "80054bba",
   "metadata": {},
   "outputs": [],
   "source": [
    "y = labels"
   ]
  },
  {
   "cell_type": "markdown",
   "id": "d2f50e96",
   "metadata": {},
   "source": [
    "### Naive Bayes Classification - Gaussian"
   ]
  },
  {
   "cell_type": "code",
   "execution_count": 23,
   "id": "e3e7a1fa",
   "metadata": {},
   "outputs": [],
   "source": [
    "from sklearn.naive_bayes import GaussianNB"
   ]
  },
  {
   "cell_type": "code",
   "execution_count": 24,
   "id": "7f0d943f",
   "metadata": {},
   "outputs": [],
   "source": [
    "from sklearn.model_selection import train_test_split\n",
    "\n",
    "from sklearn.model_selection import GridSearchCV\n",
    "from sklearn.metrics import accuracy_score"
   ]
  },
  {
   "cell_type": "code",
   "execution_count": 25,
   "id": "d0ff8d2e",
   "metadata": {},
   "outputs": [],
   "source": [
    "import random \n",
    "semilla = random.randint(0,100)\n",
    "\n",
    "X_train, X_test, y_train, y_test = train_test_split(X, \n",
    "                                                    y, \n",
    "                                                    test_size = 0.2,\n",
    "                                                    random_state=semilla,\n",
    "                                                    stratify=y)"
   ]
  },
  {
   "cell_type": "code",
   "execution_count": 26,
   "id": "bbf6588a",
   "metadata": {},
   "outputs": [
    {
     "name": "stdout",
     "output_type": "stream",
     "text": [
      "43\n"
     ]
    }
   ],
   "source": [
    "print(semilla)"
   ]
  },
  {
   "cell_type": "code",
   "execution_count": 27,
   "id": "f0ec3899",
   "metadata": {},
   "outputs": [],
   "source": [
    "clf = GaussianNB()"
   ]
  },
  {
   "cell_type": "code",
   "execution_count": 28,
   "id": "a7ae93b5",
   "metadata": {},
   "outputs": [
    {
     "data": {
      "text/plain": [
       "GaussianNB()"
      ]
     },
     "execution_count": 28,
     "metadata": {},
     "output_type": "execute_result"
    }
   ],
   "source": [
    "clf.fit(X_train, y_train)"
   ]
  },
  {
   "cell_type": "code",
   "execution_count": 29,
   "id": "b51edd9d",
   "metadata": {},
   "outputs": [
    {
     "name": "stdout",
     "output_type": "stream",
     "text": [
      "0.8916101274201556\n"
     ]
    }
   ],
   "source": [
    "print(clf.score(X_test, y_test))"
   ]
  },
  {
   "cell_type": "code",
   "execution_count": 30,
   "id": "89ce9429",
   "metadata": {},
   "outputs": [],
   "source": [
    "predictions = (clf.predict(X_test))"
   ]
  },
  {
   "cell_type": "code",
   "execution_count": 31,
   "id": "b4366de2",
   "metadata": {},
   "outputs": [
    {
     "name": "stdout",
     "output_type": "stream",
     "text": [
      "[[ 996   29   15]\n",
      " [  79 2923  311]\n",
      " [ 144   77 1469]]\n"
     ]
    }
   ],
   "source": [
    "print(confusion_matrix(y_test, predictions))"
   ]
  },
  {
   "cell_type": "code",
   "execution_count": 32,
   "id": "97a8c8c8",
   "metadata": {},
   "outputs": [
    {
     "name": "stdout",
     "output_type": "stream",
     "text": [
      "              precision    recall  f1-score   support\n",
      "\n",
      "           1       0.82      0.96      0.88      1040\n",
      "           2       0.97      0.88      0.92      3313\n",
      "           3       0.82      0.87      0.84      1690\n",
      "\n",
      "    accuracy                           0.89      6043\n",
      "   macro avg       0.87      0.90      0.88      6043\n",
      "weighted avg       0.90      0.89      0.89      6043\n",
      "\n"
     ]
    }
   ],
   "source": [
    "print(classification_report(y_test, predictions))"
   ]
  },
  {
   "cell_type": "code",
   "execution_count": 33,
   "id": "4d10671d",
   "metadata": {},
   "outputs": [
    {
     "name": "stdout",
     "output_type": "stream",
     "text": [
      "0.8916101274201556\n"
     ]
    }
   ],
   "source": [
    "print(accuracy_score(y_test, predictions))"
   ]
  },
  {
   "cell_type": "markdown",
   "id": "5c866297",
   "metadata": {},
   "source": [
    "### Naive Bayes Classification - Multinomial "
   ]
  },
  {
   "cell_type": "code",
   "execution_count": 34,
   "id": "79de3798",
   "metadata": {},
   "outputs": [],
   "source": [
    "from sklearn.naive_bayes import MultinomialNB"
   ]
  },
  {
   "cell_type": "code",
   "execution_count": 35,
   "id": "0512f68a",
   "metadata": {},
   "outputs": [],
   "source": [
    "from sklearn.model_selection import train_test_split\n",
    "\n",
    "from sklearn.model_selection import GridSearchCV\n",
    "from sklearn.metrics import accuracy_score"
   ]
  },
  {
   "cell_type": "code",
   "execution_count": 36,
   "id": "5035f00a",
   "metadata": {},
   "outputs": [],
   "source": [
    "import random \n",
    "semilla = random.randint(0,100)\n",
    "\n",
    "X_train, X_test, y_train, y_test = train_test_split(X, \n",
    "                                                    y, \n",
    "                                                    test_size = 0.2,\n",
    "                                                    random_state=semilla,\n",
    "                                                    stratify=y)"
   ]
  },
  {
   "cell_type": "code",
   "execution_count": 37,
   "id": "4b6523cf",
   "metadata": {},
   "outputs": [
    {
     "name": "stdout",
     "output_type": "stream",
     "text": [
      "53\n"
     ]
    }
   ],
   "source": [
    "print(semilla)"
   ]
  },
  {
   "cell_type": "code",
   "execution_count": 38,
   "id": "d6c157ec",
   "metadata": {},
   "outputs": [],
   "source": [
    "clf = MultinomialNB()"
   ]
  },
  {
   "cell_type": "code",
   "execution_count": 39,
   "id": "03857adb",
   "metadata": {},
   "outputs": [
    {
     "data": {
      "text/plain": [
       "MultinomialNB()"
      ]
     },
     "execution_count": 39,
     "metadata": {},
     "output_type": "execute_result"
    }
   ],
   "source": [
    "clf.fit(X_train, y_train)"
   ]
  },
  {
   "cell_type": "code",
   "execution_count": 40,
   "id": "222892f8",
   "metadata": {},
   "outputs": [
    {
     "name": "stdout",
     "output_type": "stream",
     "text": [
      "0.94489491974185\n"
     ]
    }
   ],
   "source": [
    "print(clf.score(X_test, y_test))"
   ]
  },
  {
   "cell_type": "code",
   "execution_count": 41,
   "id": "839b75e0",
   "metadata": {},
   "outputs": [],
   "source": [
    "predictions = (clf.predict(X_test))"
   ]
  },
  {
   "cell_type": "code",
   "execution_count": 42,
   "id": "faeb3bd6",
   "metadata": {},
   "outputs": [
    {
     "name": "stdout",
     "output_type": "stream",
     "text": [
      "[[ 992   38   10]\n",
      " [   4 3281   28]\n",
      " [   4  249 1437]]\n"
     ]
    }
   ],
   "source": [
    "print(confusion_matrix(y_test, predictions))"
   ]
  },
  {
   "cell_type": "code",
   "execution_count": 43,
   "id": "bba70a94",
   "metadata": {},
   "outputs": [
    {
     "name": "stdout",
     "output_type": "stream",
     "text": [
      "              precision    recall  f1-score   support\n",
      "\n",
      "           1       0.99      0.95      0.97      1040\n",
      "           2       0.92      0.99      0.95      3313\n",
      "           3       0.97      0.85      0.91      1690\n",
      "\n",
      "    accuracy                           0.94      6043\n",
      "   macro avg       0.96      0.93      0.94      6043\n",
      "weighted avg       0.95      0.94      0.94      6043\n",
      "\n"
     ]
    }
   ],
   "source": [
    "print(classification_report(y_test, predictions))"
   ]
  },
  {
   "cell_type": "code",
   "execution_count": 44,
   "id": "d4bf87f8",
   "metadata": {},
   "outputs": [
    {
     "name": "stdout",
     "output_type": "stream",
     "text": [
      "0.94489491974185\n"
     ]
    }
   ],
   "source": [
    "print(accuracy_score(y_test, predictions))"
   ]
  },
  {
   "cell_type": "code",
   "execution_count": null,
   "id": "bc353f63",
   "metadata": {},
   "outputs": [],
   "source": []
  }
 ],
 "metadata": {
  "kernelspec": {
   "display_name": "Python 3 (ipykernel)",
   "language": "python",
   "name": "python3"
  },
  "language_info": {
   "codemirror_mode": {
    "name": "ipython",
    "version": 3
   },
   "file_extension": ".py",
   "mimetype": "text/x-python",
   "name": "python",
   "nbconvert_exporter": "python",
   "pygments_lexer": "ipython3",
   "version": "3.9.13"
  }
 },
 "nbformat": 4,
 "nbformat_minor": 5
}
